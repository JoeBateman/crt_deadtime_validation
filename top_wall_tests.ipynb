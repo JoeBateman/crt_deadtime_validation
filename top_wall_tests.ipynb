{
 "cells": [
  {
   "cell_type": "markdown",
   "metadata": {},
   "source": [
    "# Top wall feature tests\n",
    "\n",
    "This notebook is investigating the features of the top wall, and why there is the long tail in top wall SP distributions\n",
    "\n",
    "This notebook is now looking at"
   ]
  },
  {
   "cell_type": "code",
   "execution_count": 1,
   "metadata": {},
   "outputs": [],
   "source": [
    "import uproot\n",
    "import awkward as ak\n",
    "import numpy as np\n",
    "import pandas as pd\n",
    "import matplotlib.pyplot as plt\n",
    "import plotly.express as px\n",
    "import plotly.graph_objects as go\n",
    "import os\n",
    "import glob\n",
    "import pickle as pkl"
   ]
  },
  {
   "cell_type": "code",
   "execution_count": 2,
   "metadata": {},
   "outputs": [],
   "source": [
    "CRT_Wall_Dict = {\n",
    "       \"South\": 1,\n",
    "       \"North\": 2,\n",
    "       \"West\": 3,\n",
    "       \"East\": 4,\n",
    "       \"Bottom\": 0,\n",
    "       \"Top Low\": 5,\n",
    "       \"Top High\": 6\n",
    "       }\n",
    "\n",
    "CRT_Wall_Arr = [\"Bottom\", \"South\", \"North\", \"West\", \"East\", \"Top Low\", \"Top High\"]"
   ]
  },
  {
   "cell_type": "code",
   "execution_count": 3,
   "metadata": {},
   "outputs": [
    {
     "name": "stdout",
     "output_type": "stream",
     "text": [
      "Total batches =  3\n"
     ]
    }
   ],
   "source": [
    "def list_matching_files(folder_path, pattern):\n",
    "    search_pattern = os.path.join(folder_path, pattern)\n",
    "    files = glob.glob(search_pattern)\n",
    "    return [f for f in files if os.path.isfile(f)]\n",
    "\n",
    "# path = \"/exp/sbnd/data/users/jbateman/workdir/crt/run/\"\n",
    "path =\"/pnfs/sbnd/persistent/users/jbateman/crt/run/\"\n",
    "run=\"017985\" # [017985, 017987, 018019]\n",
    "# run=\"017985\"\n",
    "folder_path = path+run\n",
    "\n",
    "# matching_files = list_matching_files(folder_path, \"crtana_data_*\")\n",
    "matching_files = list_matching_files(folder_path, \"crt_ana_*\")\n",
    "\n",
    "# Check how many files there are - memory gets upset if you try load too many\n",
    "# Splitting the files into batches of 3 for now\n",
    "batch_number = 0\n",
    "batch_size = 75\n",
    "# Theres probably a better way to loop this, but this is good enough for now!\n",
    "print(\"Total batches = \", int(np.ceil(len(matching_files)/batch_size)))\n",
    "matching_files = matching_files[batch_number*batch_size:(batch_number+1)*batch_size]\n",
    "\n",
    "save = False # Decide whether to save the data to a pkl for later. If unsure, leave False"
   ]
  },
  {
   "cell_type": "code",
   "execution_count": 4,
   "metadata": {},
   "outputs": [
    {
     "name": "stdout",
     "output_type": "stream",
     "text": [
      "Loading  /pnfs/sbnd/persistent/users/jbateman/crt/run/017985/crt_ana_aa.root ...\n",
      "Loading  /pnfs/sbnd/persistent/users/jbateman/crt/run/017985/crt_ana_ab.root ...\n",
      "Loading  /pnfs/sbnd/persistent/users/jbateman/crt/run/017985/crt_ana_ac.root ...\n",
      "Loading  /pnfs/sbnd/persistent/users/jbateman/crt/run/017985/crt_ana_ad.root ...\n",
      "Loading  /pnfs/sbnd/persistent/users/jbateman/crt/run/017985/crt_ana_ae.root ...\n",
      "Loading  /pnfs/sbnd/persistent/users/jbateman/crt/run/017985/crt_ana_af.root ...\n",
      "Loading  /pnfs/sbnd/persistent/users/jbateman/crt/run/017985/crt_ana_ag.root ...\n",
      "Loading  /pnfs/sbnd/persistent/users/jbateman/crt/run/017985/crt_ana_ah.root ...\n",
      "Loading  /pnfs/sbnd/persistent/users/jbateman/crt/run/017985/crt_ana_ai.root ...\n",
      "Loading  /pnfs/sbnd/persistent/users/jbateman/crt/run/017985/crt_ana_aj.root ...\n",
      "Loading  /pnfs/sbnd/persistent/users/jbateman/crt/run/017985/crt_ana_ak.root ...\n",
      "Loading  /pnfs/sbnd/persistent/users/jbateman/crt/run/017985/crt_ana_al.root ...\n",
      "Loading  /pnfs/sbnd/persistent/users/jbateman/crt/run/017985/crt_ana_am.root ...\n",
      "Loading  /pnfs/sbnd/persistent/users/jbateman/crt/run/017985/crt_ana_an.root ...\n",
      "Loading  /pnfs/sbnd/persistent/users/jbateman/crt/run/017985/crt_ana_ao.root ...\n",
      "Loading  /pnfs/sbnd/persistent/users/jbateman/crt/run/017985/crt_ana_ap.root ...\n",
      "Loading  /pnfs/sbnd/persistent/users/jbateman/crt/run/017985/crt_ana_aq.root ...\n",
      "Loading  /pnfs/sbnd/persistent/users/jbateman/crt/run/017985/crt_ana_ar.root ...\n",
      "Loading  /pnfs/sbnd/persistent/users/jbateman/crt/run/017985/crt_ana_as.root ...\n",
      "Loading  /pnfs/sbnd/persistent/users/jbateman/crt/run/017985/crt_ana_at.root ...\n",
      "Loading  /pnfs/sbnd/persistent/users/jbateman/crt/run/017985/crt_ana_au.root ...\n",
      "Loading  /pnfs/sbnd/persistent/users/jbateman/crt/run/017985/crt_ana_av.root ...\n",
      "Loading  /pnfs/sbnd/persistent/users/jbateman/crt/run/017985/crt_ana_aw.root ...\n",
      "Loading  /pnfs/sbnd/persistent/users/jbateman/crt/run/017985/crt_ana_ax.root ...\n",
      "Loading  /pnfs/sbnd/persistent/users/jbateman/crt/run/017985/crt_ana_ay.root ...\n",
      "Loading  /pnfs/sbnd/persistent/users/jbateman/crt/run/017985/crt_ana_az.root ...\n",
      "Loading  /pnfs/sbnd/persistent/users/jbateman/crt/run/017985/crt_ana_ba.root ...\n",
      "Loading  /pnfs/sbnd/persistent/users/jbateman/crt/run/017985/crt_ana_bb.root ...\n",
      "Loading  /pnfs/sbnd/persistent/users/jbateman/crt/run/017985/crt_ana_bc.root ...\n",
      "Loading  /pnfs/sbnd/persistent/users/jbateman/crt/run/017985/crt_ana_bd.root ...\n",
      "Loading  /pnfs/sbnd/persistent/users/jbateman/crt/run/017985/crt_ana_be.root ...\n",
      "Loading  /pnfs/sbnd/persistent/users/jbateman/crt/run/017985/crt_ana_bf.root ...\n",
      "Loading  /pnfs/sbnd/persistent/users/jbateman/crt/run/017985/crt_ana_bg.root ...\n",
      "Loading  /pnfs/sbnd/persistent/users/jbateman/crt/run/017985/crt_ana_bh.root ...\n",
      "Loading  /pnfs/sbnd/persistent/users/jbateman/crt/run/017985/crt_ana_bi.root ...\n",
      "Loading  /pnfs/sbnd/persistent/users/jbateman/crt/run/017985/crt_ana_bj.root ...\n",
      "Loading  /pnfs/sbnd/persistent/users/jbateman/crt/run/017985/crt_ana_bk.root ...\n",
      "Loading  /pnfs/sbnd/persistent/users/jbateman/crt/run/017985/crt_ana_bl.root ...\n",
      "Loading  /pnfs/sbnd/persistent/users/jbateman/crt/run/017985/crt_ana_bm.root ...\n",
      "Loading  /pnfs/sbnd/persistent/users/jbateman/crt/run/017985/crt_ana_bn.root ...\n",
      "Loading  /pnfs/sbnd/persistent/users/jbateman/crt/run/017985/crt_ana_bo.root ...\n",
      "Loading  /pnfs/sbnd/persistent/users/jbateman/crt/run/017985/crt_ana_bp.root ...\n",
      "Loading  /pnfs/sbnd/persistent/users/jbateman/crt/run/017985/crt_ana_bq.root ...\n",
      "Loading  /pnfs/sbnd/persistent/users/jbateman/crt/run/017985/crt_ana_br.root ...\n",
      "Loading  /pnfs/sbnd/persistent/users/jbateman/crt/run/017985/crt_ana_bs.root ...\n",
      "Loading  /pnfs/sbnd/persistent/users/jbateman/crt/run/017985/crt_ana_bt.root ...\n",
      "Loading  /pnfs/sbnd/persistent/users/jbateman/crt/run/017985/crt_ana_bu.root ...\n",
      "Loading  /pnfs/sbnd/persistent/users/jbateman/crt/run/017985/crt_ana_bv.root ...\n",
      "Loading  /pnfs/sbnd/persistent/users/jbateman/crt/run/017985/crt_ana_bw.root ...\n",
      "Loading  /pnfs/sbnd/persistent/users/jbateman/crt/run/017985/crt_ana_bx.root ...\n",
      "Loading  /pnfs/sbnd/persistent/users/jbateman/crt/run/017985/crt_ana_by.root ...\n",
      "Loading  /pnfs/sbnd/persistent/users/jbateman/crt/run/017985/crt_ana_bz.root ...\n",
      "Loading  /pnfs/sbnd/persistent/users/jbateman/crt/run/017985/crt_ana_ca.root ...\n",
      "Loading  /pnfs/sbnd/persistent/users/jbateman/crt/run/017985/crt_ana_cb.root ...\n",
      "Loading  /pnfs/sbnd/persistent/users/jbateman/crt/run/017985/crt_ana_ep.root ...\n",
      "Loading  /pnfs/sbnd/persistent/users/jbateman/crt/run/017985/crt_ana_eq.root ...\n",
      "Loading  /pnfs/sbnd/persistent/users/jbateman/crt/run/017985/crt_ana_er.root ...\n",
      "Loading  /pnfs/sbnd/persistent/users/jbateman/crt/run/017985/crt_ana_es.root ...\n",
      "Loading  /pnfs/sbnd/persistent/users/jbateman/crt/run/017985/crt_ana_et.root ...\n",
      "Loading  /pnfs/sbnd/persistent/users/jbateman/crt/run/017985/crt_ana_eu.root ...\n",
      "Loading  /pnfs/sbnd/persistent/users/jbateman/crt/run/017985/crt_ana_ev.root ...\n",
      "Loading  /pnfs/sbnd/persistent/users/jbateman/crt/run/017985/crt_ana_ew.root ...\n",
      "Loading  /pnfs/sbnd/persistent/users/jbateman/crt/run/017985/crt_ana_ex.root ...\n",
      "Loading  /pnfs/sbnd/persistent/users/jbateman/crt/run/017985/crt_ana_ey.root ...\n",
      "Loading  /pnfs/sbnd/persistent/users/jbateman/crt/run/017985/crt_ana_ez.root ...\n",
      "Loading  /pnfs/sbnd/persistent/users/jbateman/crt/run/017985/crt_ana_fa.root ...\n",
      "Loading  /pnfs/sbnd/persistent/users/jbateman/crt/run/017985/crt_ana_fb.root ...\n",
      "Loading  /pnfs/sbnd/persistent/users/jbateman/crt/run/017985/crt_ana_fc.root ...\n",
      "Loading  /pnfs/sbnd/persistent/users/jbateman/crt/run/017985/crt_ana_fd.root ...\n",
      "Loading  /pnfs/sbnd/persistent/users/jbateman/crt/run/017985/crt_ana_fe.root ...\n",
      "Loading  /pnfs/sbnd/persistent/users/jbateman/crt/run/017985/crt_ana_ff.root ...\n",
      "Loading  /pnfs/sbnd/persistent/users/jbateman/crt/run/017985/crt_ana_fg.root ...\n",
      "Loading  /pnfs/sbnd/persistent/users/jbateman/crt/run/017985/crt_ana_fh.root ...\n",
      "Loading  /pnfs/sbnd/persistent/users/jbateman/crt/run/017985/crt_ana_fi.root ...\n",
      "Loading  /pnfs/sbnd/persistent/users/jbateman/crt/run/017985/crt_ana_fj.root ...\n"
     ]
    }
   ],
   "source": [
    "track_features = [\"tr_start_x\", \"tr_start_y\", \"tr_start_z\", \"tr_end_x\", \"tr_end_y\", \"tr_end_z\", \"tr_dir_x\", \"tr_dir_y\", \"tr_dir_z\", \"tr_ts0\", \"tr_ts1\", \"tr_pe\", \"tr_length\", \"tr_tof\", \"tr_theta\", \"tr_phi\", \"tr_triple\", \"tr_tagger1\", \"tr_tagger2\", \"tr_tagger3\", \"tr_channel_set\", \"tr_adc_set\",'tdc_channel','tdc_timestamp','tdc_offset','tdc_name']\n",
    "\n",
    "\n",
    "# Load the first file to get the columns\n",
    "ttree = uproot.open(matching_files[0])\n",
    "print(\"Loading \", matching_files[0], \"...\")\n",
    "\n",
    "recodata = ttree['crtana/tree'].arrays(track_features, library='ak')\n",
    "# recodata = ttree['crtana/tree'].arrays(library='ak')\n",
    "\n",
    "# Merge all the files into one dataframe (now an awkward array, which speeds everything up so much)\n",
    "for file in matching_files[1:]:\n",
    "    print(\"Loading \", file, \"...\")\n",
    "    ttree = uproot.open(file)\n",
    "\n",
    "    temp_recodata = ttree['crtana/tree'].arrays(track_features, library='ak')\n",
    "    # temp_recodata = ttree['crtana/tree'].arrays(library='ak')\n",
    "\n",
    "    recodata = ak.concatenate([recodata, temp_recodata])\n",
    "    ttree.close()"
   ]
  },
  {
   "cell_type": "code",
   "execution_count": 5,
   "metadata": {},
   "outputs": [],
   "source": [
    "trk_start_x = recodata.tr_start_x\n",
    "trk_start_y = recodata.tr_start_y\n",
    "trk_start_z = recodata.tr_start_z\n",
    "\n",
    "trk_end_x = recodata.tr_end_x\n",
    "trk_end_y = recodata.tr_end_y\n",
    "trk_end_z = recodata.tr_end_z\n",
    "\n",
    "trk_ts0 = recodata.tr_ts0\n",
    "trk_ts1 = recodata.tr_ts1\n",
    "\n",
    "trk_wall_1 = recodata.tr_tagger1\n",
    "trk_wall_2 = recodata.tr_tagger2\n",
    "trk_wall_3 = recodata.tr_tagger3\n",
    "\n",
    "tdc_names = recodata.tdc_name\n",
    "tdc_time = recodata.tdc_timestamp\n",
    "\n",
    "# Find the indices of 'crtt1', 'rwm', and 'etrig' in tdc_names\n",
    "crtt1_indices = ak.argmax(tdc_names == b'crtt1', axis=1)\n",
    "rwm_indices = ak.argmax(tdc_names == b'rwm', axis=1)\n",
    "etrig_indices = ak.argmax(tdc_names == b'etrig', axis=1)\n",
    "\n",
    "\n",
    "# # Filter out events with missing TDC data\n",
    "valid_events = (crtt1_indices != -1) & (rwm_indices != -1) & (etrig_indices != -1)\n",
    "# Apply the mask to filter valid events\n",
    "tdc_names = tdc_names[valid_events]\n",
    "tdc_time = tdc_time[valid_events]\n",
    "\n",
    "# Get only valid events\n",
    "trk_start_x = trk_start_x[valid_events]\n",
    "trk_start_y = trk_start_y[valid_events]\n",
    "trk_start_z = trk_start_z[valid_events]\n",
    "\n",
    "trk_end_x = trk_end_x[valid_events]\n",
    "trk_end_y = trk_end_y[valid_events]\n",
    "trk_end_z = trk_end_z[valid_events]\n",
    "\n",
    "trk_wall_1 = trk_wall_1[valid_events]\n",
    "trk_wall_2 = trk_wall_2[valid_events]\n",
    "trk_wall_3 = trk_wall_3[valid_events]\n",
    "\n",
    "trk_ts0 = trk_ts0[valid_events]\n",
    "trk_ts1 = trk_ts1[valid_events]\n",
    "\n",
    "# Extract the TDC values\n",
    "tdc_crt = tdc_time[tdc_names == b'crtt1']\n",
    "tdc_rwm = tdc_time[tdc_names == b'rwm']\n",
    "tdc_etrig = tdc_time[tdc_names == b'etrig']"
   ]
  },
  {
   "cell_type": "code",
   "execution_count": 6,
   "metadata": {},
   "outputs": [
    {
     "name": "stdout",
     "output_type": "stream",
     "text": [
      "Starting with 30114768 tracks\n",
      "Filtering for complete TDC entries only:  28742585 tracks\n"
     ]
    }
   ],
   "source": [
    "\n",
    "trk_start_x = recodata.tr_start_x\n",
    "trk_start_y = recodata.tr_start_y\n",
    "trk_start_z = recodata.tr_start_z\n",
    "print(\"Starting with {} tracks\".format(len(ak.flatten(trk_start_x))))\n",
    "trk_end_x = recodata.tr_end_x\n",
    "trk_end_y = recodata.tr_end_y\n",
    "trk_end_z = recodata.tr_end_z\n",
    "\n",
    "trk_ts0 = recodata.tr_ts0\n",
    "trk_ts1 = recodata.tr_ts1\n",
    "\n",
    "trk_wall_1 = recodata.tr_tagger1\n",
    "trk_wall_2 = recodata.tr_tagger2\n",
    "trk_wall_3 = recodata.tr_tagger3\n",
    "\n",
    "tdc_names = recodata.tdc_name\n",
    "tdc_time = recodata.tdc_timestamp\n",
    "\n",
    "# Find the indices of 'crtt1', 'rwm', and 'etrig' in tdc_names\n",
    "crtt1_indices = ak.argmax(tdc_names == b'crtt1', axis=1)\n",
    "rwm_indices = ak.argmax(tdc_names == b'rwm', axis=1)\n",
    "etrig_indices = ak.argmax(tdc_names == b'etrig', axis=1)\n",
    "\n",
    "# # Filter out events with missing TDC data\n",
    "valid_events = (crtt1_indices != -1) & (rwm_indices != -1) & (etrig_indices != -1)\n",
    "# Apply the mask to filter valid events\n",
    "tdc_names = tdc_names[valid_events]\n",
    "tdc_time = tdc_time[valid_events]\n",
    "\n",
    "# Get only valid events\n",
    "trk_start_x = trk_start_x[valid_events]\n",
    "trk_start_y = trk_start_y[valid_events]\n",
    "trk_start_z = trk_start_z[valid_events]\n",
    "\n",
    "trk_end_x = trk_end_x[valid_events]\n",
    "trk_end_y = trk_end_y[valid_events]\n",
    "trk_end_z = trk_end_z[valid_events]\n",
    "\n",
    "trk_wall_1 = trk_wall_1[valid_events]\n",
    "trk_wall_2 = trk_wall_2[valid_events]\n",
    "trk_wall_3 = trk_wall_3[valid_events]\n",
    "\n",
    "trk_ts0 = trk_ts0[valid_events]\n",
    "trk_ts1 = trk_ts1[valid_events]\n",
    "\n",
    "# Extract the TDC values\n",
    "tdc_crt = tdc_time[tdc_names == b'crtt1']\n",
    "tdc_rwm = tdc_time[tdc_names == b'rwm']\n",
    "tdc_etrig = tdc_time[tdc_names == b'etrig']\n",
    "\n",
    "# Check that none of the entries in each array have length zero\n",
    "filter = []\n",
    "for crt, rwm, etrig in zip(tdc_crt, tdc_rwm, tdc_etrig):\n",
    "    try:\n",
    "        if len(crt) == 0 or len(rwm) == 0 or len(etrig) == 0:\n",
    "            filter.extend([False])\n",
    "        else:\n",
    "            filter.extend([True])\n",
    "    except:\n",
    "        filter.extend([False])\n",
    "\n",
    "# Apply the filter to the arrays\n",
    "tdc_etrig_flat = ak.flatten(tdc_etrig[filter]) % 1e12\n",
    "tdc_rwm_flat = ak.flatten(tdc_rwm[filter]) % 1e12\n",
    "\n",
    "# Calculate delta_t\n",
    "delta_t = tdc_etrig_flat - tdc_rwm_flat\n",
    "# Calculate relative timestamps\n",
    "\n",
    "trk_ts0 = trk_ts0[filter]\n",
    "trk_ts1 = trk_ts1[filter]\n",
    "\n",
    "relative_ts0_vec = trk_ts0 + delta_t\n",
    "relative_ts1_vec = trk_ts1 + delta_t\n",
    "\n",
    "# Filter the tracks\n",
    "trk_start_x = trk_start_x[filter]\n",
    "trk_start_y = trk_start_y[filter]\n",
    "trk_start_z = trk_start_z[filter]\n",
    "print(\"Filtering for complete TDC entries only:  {} tracks\".format(len(ak.flatten(trk_start_x))))\n",
    "\n",
    "\n",
    "trk_end_x = trk_end_x[filter]\n",
    "trk_end_y = trk_end_y[filter]\n",
    "trk_end_z = trk_end_z[filter]\n",
    "\n",
    "trk_wall_1 = trk_wall_1[filter]\n",
    "trk_wall_2 = trk_wall_2[filter]\n",
    "trk_wall_3 = trk_wall_3[filter]\n",
    "\n",
    "# Flatten arrays and convert to numpy\n",
    "trk_start_x = np.array(ak.flatten(trk_start_x))\n",
    "trk_start_y = np.array(ak.flatten(trk_start_y))\n",
    "trk_start_z = np.array(ak.flatten(trk_start_z))\n",
    "\n",
    "trk_end_x = np.array(ak.flatten(trk_end_x))\n",
    "trk_end_y = np.array(ak.flatten(trk_end_y))\n",
    "trk_end_z = np.array(ak.flatten(trk_end_z))\n",
    "\n",
    "trk_wall_1 = np.array(ak.flatten(trk_wall_1))\n",
    "trk_wall_2 = np.array(ak.flatten(trk_wall_2))\n",
    "trk_wall_3 = np.array(ak.flatten(trk_wall_3))\n",
    "\n",
    "trk_ts0 = np.array(ak.flatten(relative_ts0_vec)) / 1e3  # convert from ns to μs\n",
    "trk_ts1 = np.array(ak.flatten(relative_ts1_vec)) / 1e3  # convert from ns to μs"
   ]
  },
  {
   "cell_type": "markdown",
   "metadata": {},
   "source": [
    "Now we do a quick sanity check:\n",
    "\n",
    "\n",
    "Do we see the top hat with tracks?"
   ]
  },
  {
   "cell_type": "code",
   "execution_count": 7,
   "metadata": {},
   "outputs": [
    {
     "data": {
      "image/png": "[encoded data removed]",
      "text/plain": [
       "<Figure size 640x480 with 1 Axes>"
      ]
     },
     "metadata": {},
     "output_type": "display_data"
    }
   ],
   "source": [
    "plt.hist(trk_ts0 + 1, range=(-2, 8), bins=40, histtype='step', label='ts0')\n",
    "plt.ylabel('Counts')\n",
    "plt.xlabel('CRT Track time [μs]')\n",
    "plt.show()"
   ]
  },
  {
   "cell_type": "code",
   "execution_count": 28,
   "metadata": {},
   "outputs": [
    {
     "name": "stdout",
     "output_type": "stream",
     "text": [
      "Filtering for the beam window:  1797 tracks\n"
     ]
    }
   ],
   "source": [
    "# Now select the beam window\n",
    "window_range = (-0.4,2)\n",
    "in_window_filter = ((trk_ts0 +  1 > window_range[0]) & (trk_ts0 + 1 < window_range[1]))\n",
    "\n",
    "trk_ts0_in_window = trk_ts0[in_window_filter]\n",
    "\n",
    "trk_start_in_x = trk_start_x[in_window_filter]\n",
    "trk_start_in_y = trk_start_y[in_window_filter]\n",
    "trk_start_in_z = trk_start_z[in_window_filter]\n",
    "\n",
    "trk_end_in_x = trk_end_x[in_window_filter]\n",
    "trk_end_in_y = trk_end_y[in_window_filter]\n",
    "trk_end_in_z = trk_end_z[in_window_filter]\n",
    "\n",
    "trk_wall_1_in = trk_wall_1[in_window_filter]\n",
    "trk_wall_2_in = trk_wall_2[in_window_filter]\n",
    "trk_wall_3_in = trk_wall_3[in_window_filter]\n",
    "\n",
    "print(\"Filtering for the beam window:  {} tracks\".format(len(trk_start_in_x)))\n"
   ]
  },
  {
   "cell_type": "code",
   "execution_count": 29,
   "metadata": {},
   "outputs": [],
   "source": [
    "timing_range = 500 \n",
    "sideband_offset = 0\n",
    "out_window_filter = (((trk_ts0 + 1 < window_range[0] - sideband_offset) & (trk_ts0 + 1 > -timing_range)) | ((trk_ts0 + 1 > window_range[1] + sideband_offset) & (trk_ts0 + 1 < timing_range)))\n",
    "\n",
    "\n",
    "time_norm = 2*timing_range - (window_range[1] - window_range[0])\n",
    "trk_ts0_out_window = trk_ts0[out_window_filter]\n",
    "\n",
    "trk_start_out_x = trk_start_x[out_window_filter]\n",
    "trk_start_out_y = trk_start_y[out_window_filter]\n",
    "trk_start_out_z = trk_start_z[out_window_filter]\n",
    "\n",
    "trk_end_out_x = trk_end_x[out_window_filter]\n",
    "trk_end_out_y = trk_end_y[out_window_filter]\n",
    "trk_end_out_z = trk_end_z[out_window_filter]\n",
    "\n",
    "trk_wall_1_out = trk_wall_1[out_window_filter]\n",
    "trk_wall_2_out = trk_wall_2[out_window_filter]\n",
    "trk_wall_3_out = trk_wall_3[out_window_filter]"
   ]
  },
  {
   "cell_type": "code",
   "execution_count": 30,
   "metadata": {},
   "outputs": [
    {
     "data": {
      "text/plain": [
       "Text(0.5, 0, 'CRT Track time [μs]')"
      ]
     },
     "execution_count": 30,
     "metadata": {},
     "output_type": "execute_result"
    },
    {
     "data": {
      "image/png": "[encoded data removed]",
      "text/plain": [
       "<Figure size 640x480 with 1 Axes>"
      ]
     },
     "metadata": {},
     "output_type": "display_data"
    }
   ],
   "source": [
    "# Do a quick background substraction\n",
    "\n",
    "bins = 40\n",
    "range_time = (-2,8)\n",
    "binwidth = (range_time[1] - range_time[0]) / bins\n",
    "\n",
    "background = len(trk_ts0_out_window) / time_norm * binwidth\n",
    "\n",
    "hist, bins = np.histogram(trk_ts0 + 1, bins=bins, range=range_time)\n",
    "\n",
    "hist = hist - background\n",
    "plt.step(bins[:-1], hist, where='post')\n",
    "plt.ylabel('Background subtracted counts')\n",
    "plt.xlabel('CRT Track time [μs]')\n",
    "# plt.title('Track that hits Top low & Top high')"
   ]
  },
  {
   "cell_type": "code",
   "execution_count": 31,
   "metadata": {},
   "outputs": [
    {
     "data": {
      "text/plain": [
       "144.05172413793102"
      ]
     },
     "execution_count": 31,
     "metadata": {},
     "output_type": "execute_result"
    }
   ],
   "source": [
    "background"
   ]
  },
  {
   "cell_type": "markdown",
   "metadata": {},
   "source": [
    "background w/ offset: 142.65750200320514\n",
    "background w/o offset: 144.0584935897436"
   ]
  },
  {
   "cell_type": "code",
   "execution_count": 32,
   "metadata": {},
   "outputs": [
    {
     "data": {
      "text/plain": [
       "Text(0.5, 1.0, 'Track that hits Top low & Top high')"
      ]
     },
     "execution_count": 32,
     "metadata": {},
     "output_type": "execute_result"
    },
    {
     "data": {
      "image/png": "[encoded data removed]",
      "text/plain": [
       "<Figure size 640x480 with 1 Axes>"
      ]
     },
     "metadata": {},
     "output_type": "display_data"
    }
   ],
   "source": [
    "def top_wall_filter(tagger_arr):\n",
    "    return np.logical_and(np.any(tagger_arr == 5, axis=1), np.any(tagger_arr == 6, axis=1))\n",
    "\n",
    "def not_top_wall_filter(tagger_arr):\n",
    "    return np.logical_not(top_wall_filter(tagger_arr))\n",
    "\n",
    "tagger_arr = np.transpose([trk_wall_1_in, trk_wall_2_in, trk_wall_3_in])\n",
    "top_wall_in_filter = top_wall_filter(tagger_arr)\n",
    "\n",
    "trk_start_in_top_x = trk_start_in_x[top_wall_in_filter]\n",
    "trk_start_in_top_y = trk_start_in_y[top_wall_in_filter]\n",
    "trk_start_in_top_z = trk_start_in_z[top_wall_in_filter]\n",
    "\n",
    "trk_end_in_top_x = trk_end_in_x[top_wall_in_filter]\n",
    "trk_end_in_top_y = trk_end_in_y[top_wall_in_filter]\n",
    "trk_end_in_top_z = trk_end_in_z[top_wall_in_filter]\n",
    "\n",
    "tagger_arr = np.transpose([trk_wall_1_out, trk_wall_2_out, trk_wall_3_out])\n",
    "top_wall_out_filter = top_wall_filter(tagger_arr)\n",
    "\n",
    "trk_start_out_top_x = trk_start_out_x[top_wall_out_filter]\n",
    "trk_start_out_top_y = trk_start_out_y[top_wall_out_filter]\n",
    "trk_start_out_top_z = trk_start_out_z[top_wall_out_filter]\n",
    "\n",
    "trk_end_out_top_x = trk_end_out_x[top_wall_out_filter]\n",
    "trk_end_out_top_y = trk_end_out_y[top_wall_out_filter]\n",
    "trk_end_out_top_z = trk_end_out_z[top_wall_out_filter]\n",
    "\n",
    "tagger_arr = np.transpose([trk_wall_1, trk_wall_2, trk_wall_3])\n",
    "top_wall_filter = top_wall_filter(tagger_arr)\n",
    "trk_ts0_top = trk_ts0[top_wall_filter]\n",
    "\n",
    "not_top_filter = np.logical_not(top_wall_filter)\n",
    "trk_ts0_not_top = trk_ts0[not_top_filter]\n",
    "\n",
    "# plt.hist(trk_ts0_top + 1, range=(-5, 5), bins=20, histtype='step', label='ts0')\n",
    "\n",
    "# Do background subtraction for the top wall\n",
    "range_time = (-2,8)\n",
    "bins = 20\n",
    "binwidth = (range_time[1] - range_time[0]) / bins\n",
    "\n",
    "background_filter = ((trk_ts0_top + 1 < window_range[0]) & (trk_ts0_top + 1 > -timing_range))\n",
    "time_norm = timing_range + window_range[0]\n",
    "background_top = len(trk_ts0_top[background_filter]) / time_norm * binwidth\n",
    "\n",
    "hist, bins = np.histogram(trk_ts0_top + 1, bins=bins, range=range_time)\n",
    "hist = hist - background_top\n",
    "plt.step(bins[:-1], hist, where='post')\n",
    "plt.ylabel('Background subtracted counts')\n",
    "plt.xlabel('CRT Track time [μs]')\n",
    "plt.title('Track that hits Top low & Top high')\n"
   ]
  },
  {
   "cell_type": "code",
   "execution_count": 33,
   "metadata": {},
   "outputs": [
    {
     "data": {
      "image/png": "[encoded data removed]",
      "text/plain": [
       "<Figure size 640x480 with 1 Axes>"
      ]
     },
     "metadata": {},
     "output_type": "display_data"
    },
    {
     "data": {
      "text/plain": [
       "<matplotlib.legend.Legend at 0x7f5453f27340>"
      ]
     },
     "execution_count": 33,
     "metadata": {},
     "output_type": "execute_result"
    },
    {
     "data": {
      "image/png": "[encoded data removed]",
      "text/plain": [
       "<Figure size 640x480 with 1 Axes>"
      ]
     },
     "metadata": {},
     "output_type": "display_data"
    }
   ],
   "source": [
    "# plt.hist(trk_ts0_top + 1, range=(-5, 5), bins=20, histtype='step', label='ts0')\n",
    "\n",
    "# Do background subtraction for the top wall\n",
    "range_time = (-10,10)\n",
    "timing_range = 500\n",
    "n_bins = 40\n",
    "binwidth = (range_time[1] - range_time[0]) / n_bins\n",
    "time_norm = timing_range + window_range[0]\n",
    "\n",
    "hist, bins = np.histogram(trk_ts0_top + 1, bins=n_bins, range=range_time)\n",
    "# hist = hist - background_top\n",
    "plt.step(bins[:-1], hist, where='post', label='Top wall')\n",
    "# plt.ylabel('Background subtracted counts')\n",
    "# plt.xlabel('CRT Track time [μs]')\n",
    "# plt.title('Track that hits Top low & Top high')\n",
    "# Do background subtraction for not the top wall\n",
    "\n",
    "hist, bins = np.histogram(trk_ts0_not_top + 1, bins=n_bins, range=range_time)\n",
    "plt.step(bins[:-1], hist, where='post', label='Not Top wall')\n",
    "plt.ylabel('Counts')\n",
    "plt.xlabel('CRT Track time [μs]')\n",
    "plt.legend()\n",
    "plt.show()\n",
    "\n",
    "# plt.hist(trk_ts0_top + 1, range=(-5, 5), bins=20, histtype='step', label='ts0')\n",
    "\n",
    "# Do background subtraction for the top wall\n",
    "background_filter = ((trk_ts0_top + 1 < window_range[0]) & (trk_ts0_top + 1 > -timing_range))\n",
    "background_top = len(trk_ts0_top[background_filter]) / time_norm * binwidth\n",
    "\n",
    "# print(background_top)\n",
    "# background_hist, bins = np.histogram(trk_ts0_top[background_filter] + 1, bins=int(time_norm/binwidth), range=(-timing_range, window_range[0]))   \n",
    "# background_top = np.mean(background_hist)\n",
    "# print(background_top)\n",
    "\n",
    "hist, bins = np.histogram(trk_ts0_top + 1, bins=n_bins, range=range_time)\n",
    "hist = hist - background_top\n",
    "plt.step(bins[:-1], hist, where='post', label='Top wall')\n",
    "# plt.ylabel('Background subtracted counts')\n",
    "# plt.xlabel('CRT Track time [μs]')\n",
    "# plt.title('Track that hits Top low & Top high')\n",
    "# Do background subtraction for not the top wall\n",
    "\n",
    "background_filter = ((trk_ts0_not_top + 1 < window_range[0]) & (trk_ts0_not_top + 1 > -timing_range))\n",
    "time_norm = timing_range + window_range[0]\n",
    "background_not_top = len(trk_ts0_not_top[background_filter]) / time_norm * binwidth\n",
    "\n",
    "# print(background_not_top)\n",
    "# background_hist, bins = np.histogram(trk_ts0_not_top[background_filter] + 1, bins=int(time_norm/binwidth), range=(-timing_range, window_range[0]))   \n",
    "# background_not_top = np.mean(background_hist)\n",
    "# print(background_not_top)\n",
    "\n",
    "hist, bins = np.histogram(trk_ts0_not_top + 1, bins=n_bins, range=range_time)\n",
    "hist = hist - background_not_top\n",
    "plt.step(bins[:-1], hist, where='post', label='Not Top wall')\n",
    "plt.ylabel('Background subtracted counts')\n",
    "plt.xlabel('CRT Track time [μs]')\n",
    "plt.legend()\n",
    "# plt.title('Track that DO NOT hit Top low & Top high')\n",
    "# plt.title('Track that DO NOT hit Top low & Top high')"
   ]
  },
  {
   "cell_type": "markdown",
   "metadata": {},
   "source": [
    "### Interlude: what do our in-window top tracks look like?"
   ]
  },
  {
   "cell_type": "code",
   "execution_count": 34,
   "metadata": {},
   "outputs": [],
   "source": [
    "track_vector_x = np.transpose([trk_start_in_top_x, trk_end_in_top_x])\n",
    "track_vector_y = np.transpose([trk_start_in_top_y, trk_end_in_top_y])\n",
    "track_vector_z = np.transpose([trk_start_in_top_z, trk_end_in_top_z])"
   ]
  },
  {
   "cell_type": "code",
   "execution_count": 35,
   "metadata": {},
   "outputs": [
    {
     "data": {
      "application/vnd.plotly.v1+json": {
       "config": {
        "plotlyServerURL": "https://plot.ly"
       },
       "data": [
        {
         "line": {
          "width": 2
         },
         "mode": "lines",
         "type": "scatter3d",
         "x": [
          -293.7282892991524,
          -103.15311297698557
         ],
         "y": [
          132.93984993580204,
          -40.26974870250953
         ],
         "z": [
          766.85,
          632.95
         ]
        },
        {
         "line": {
          "width": 2
         },
         "mode": "lines",
         "type": "scatter3d",
         "x": [
          99.84878531128213,
          75.97779282378971
         ],
         "y": [
          634.8288215556439,
          676.4955756879945
         ],
         "z": [
          767.3,
          632.05
         ]
        },
        {
         "line": {
          "width": 2
         },
         "mode": "lines",
         "type": "scatter3d",
         "x": [
          258.24902541156865,
          126.67704025681077
         ],
         "y": [
          -95.34080174139038,
          181.79894808014413
         ],
         "z": [
          632.95,
          766.85
         ]
        },
        {
         "line": {
          "width": 2
         },
         "mode": "lines",
         "type": "scatter3d",
         "x": [
          -256.6663827326495,
          -402.4132861874842
         ],
         "y": [
          699.1590741046427,
          559.8985224630678
         ],
         "z": [
          632.95,
          766.85
         ]
        },
        {
         "line": {
          "width": 2
         },
         "mode": "lines",
         "type": "scatter3d",
         "x": [
          -142.03659851635774,
          -140.76090798061725
         ],
         "y": [
          -96.82890686985547,
          -43.898976175010674
         ],
         "z": [
          767.75,
          632.95
         ]
        },
        {
         "line": {
          "width": 2
         },
         "mode": "lines",
         "type": "scatter3d",
         "x": [
          -327.59841479524437,
          -387.78551932615267
         ],
         "y": [
          244.65226613861387,
          566.1850069422012
         ],
         "z": [
          632.95,
          766.85
         ]
        },
        {
         "line": {
          "width": 2
         },
         "mode": "lines",
         "type": "scatter3d",
         "x": [
          80.10745496669392,
          -23.728585094892765
         ],
         "y": [
          49.03838865452272,
          -89.22374846419707
         ],
         "z": [
          767.75,
          632.0500000000001
         ]
        },
        {
         "line": {
          "width": 2
         },
         "mode": "lines",
         "type": "scatter3d",
         "x": [
          -145.5190744374039,
          383
         ],
         "y": [
          106.77535801784215,
          218.76898682329863
         ],
         "z": [
          766.85,
          190.22761312866288
         ]
        },
        {
         "line": {
          "width": 2
         },
         "mode": "lines",
         "type": "scatter3d",
         "x": [
          -167.01688917673727,
          -192.98944668244306
         ],
         "y": [
          381.5508483605412,
          397.6061857307825
         ],
         "z": [
          632.95,
          767.3
         ]
        },
        {
         "line": {
          "width": 2
         },
         "mode": "lines",
         "type": "scatter3d",
         "x": [
          -30.56036633973715,
          -34.65065730153407
         ],
         "y": [
          462.6342587514689,
          536.5311149585636
         ],
         "z": [
          632.05,
          767.75
         ]
        },
        {
         "line": {
          "width": 2
         },
         "mode": "lines",
         "type": "scatter3d",
         "x": [
          177.0673204337384,
          247.51241469053917
         ],
         "y": [
          -58.86104299026381,
          -52.54898495438107
         ],
         "z": [
          632.95,
          766.85
         ]
        },
        {
         "line": {
          "width": 2
         },
         "mode": "lines",
         "type": "scatter3d",
         "x": [
          223.5906602491939,
          192.2453991547616
         ],
         "y": [
          466.29860462447647,
          469.2844914442518
         ],
         "z": [
          766.85,
          632.95
         ]
        },
        {
         "line": {
          "width": 2
         },
         "mode": "lines",
         "type": "scatter3d",
         "x": [
          -418.30792033944385,
          -413.11739610326885
         ],
         "y": [
          25.034462198464595,
          346.81181147034283
         ],
         "z": [
          632.95,
          766.85
         ]
        },
        {
         "line": {
          "width": 2
         },
         "mode": "lines",
         "type": "scatter3d",
         "x": [
          68.94534349198022,
          -383
         ],
         "y": [
          180.20494418762436,
          139.90212645831784
         ],
         "z": [
          766.85,
          98.58729065368999
         ]
        },
        {
         "line": {
          "width": 2
         },
         "mode": "lines",
         "type": "scatter3d",
         "x": [
          -227.04720304760207,
          -221.18154601649104
         ],
         "y": [
          6.5880555354000325,
          44.219678489586514
         ],
         "z": [
          767.3,
          632.95
         ]
        },
        {
         "line": {
          "width": 2
         },
         "mode": "lines",
         "type": "scatter3d",
         "x": [
          -252.78294420198975,
          -228.98611244871623
         ],
         "y": [
          -100.24515606898012,
          116.60437542673029
         ],
         "z": [
          766.85,
          632.95
         ]
        },
        {
         "line": {
          "width": 2
         },
         "mode": "lines",
         "type": "scatter3d",
         "x": [
          -201.5909929262993,
          120.6257125584338
         ],
         "y": [
          579.3761540332034,
          534.561423130827
         ],
         "z": [
          632.95,
          767.3
         ]
        },
        {
         "line": {
          "width": 2
         },
         "mode": "lines",
         "type": "scatter3d",
         "x": [
          -394.92288934887176,
          -375.1856599574773
         ],
         "y": [
          243.50240156221253,
          257.86864885045225
         ],
         "z": [
          766.85,
          632.95
         ]
        },
        {
         "line": {
          "width": 2
         },
         "mode": "lines",
         "type": "scatter3d",
         "x": [
          -219.1777300502539,
          169.11938584930934
         ],
         "y": [
          473.96462085557556,
          770.95
         ],
         "z": [
          632.95,
          220.47812584844752
         ]
        },
        {
         "line": {
          "width": 2
         },
         "mode": "lines",
         "type": "scatter3d",
         "x": [
          418.34434634213983,
          400.0603301949217
         ],
         "y": [
          -105.09615239078889,
          -132.27427355279082
         ],
         "z": [
          766.85,
          632.95
         ]
        },
        {
         "line": {
          "width": 2
         },
         "mode": "lines",
         "type": "scatter3d",
         "x": [
          54.24514415788921,
          10.09234526030184
         ],
         "y": [
          221.0562238157655,
          400.86771639141426
         ],
         "z": [
          767.75,
          632.05
         ]
        },
        {
         "line": {
          "width": 2
         },
         "mode": "lines",
         "type": "scatter3d",
         "x": [
          -31.338318406973286,
          -10.63641035350117
         ],
         "y": [
          -1.1622077646820381,
          -81.23191102088967
         ],
         "z": [
          632.0500000000001,
          767.75
         ]
        },
        {
         "line": {
          "width": 2
         },
         "mode": "lines",
         "type": "scatter3d",
         "x": [
          -374.1148230442434,
          -391.690270310522
         ],
         "y": [
          449.18019958172204,
          457.7470544028753
         ],
         "z": [
          632.95,
          766.85
         ]
        },
        {
         "line": {
          "width": 2
         },
         "mode": "lines",
         "type": "scatter3d",
         "x": [
          -151.62383748129463,
          -135.93596169687535
         ],
         "y": [
          88.60180588351508,
          80.9908796919387
         ],
         "z": [
          767.75,
          632.95
         ]
        },
        {
         "line": {
          "width": 2
         },
         "mode": "lines",
         "type": "scatter3d",
         "x": [
          140.27746214786737,
          123.50122265771813
         ],
         "y": [
          222.64602709066767,
          268.90589847947126
         ],
         "z": [
          767.3,
          632.95
         ]
        },
        {
         "line": {
          "width": 2
         },
         "mode": "lines",
         "type": "scatter3d",
         "x": [
          200.74379533173914,
          233.39960851515065
         ],
         "y": [
          47.95036620873343,
          12.331666944703818
         ],
         "z": [
          766.85,
          632.95
         ]
        },
        {
         "line": {
          "width": 2
         },
         "mode": "lines",
         "type": "scatter3d",
         "x": [
          -8.557227902992413,
          88.79598342522458
         ],
         "y": [
          133.78064403384474,
          770.95
         ],
         "z": [
          766.85,
          19.85261458480602
         ]
        },
        {
         "line": {
          "width": 2
         },
         "mode": "lines",
         "type": "scatter3d",
         "x": [
          22.038962629975245,
          66.95538898940292
         ],
         "y": [
          481.0149733172663,
          609.1569688887209
         ],
         "z": [
          632.05,
          767.75
         ]
        },
        {
         "line": {
          "width": 2
         },
         "mode": "lines",
         "type": "scatter3d",
         "x": [
          -16.836625681539516,
          -115.88147786387884
         ],
         "y": [
          90.67351474000094,
          109.21439842736449
         ],
         "z": [
          766.85,
          632.95
         ]
        },
        {
         "line": {
          "width": 2
         },
         "mode": "lines",
         "type": "scatter3d",
         "x": [
          -281.14290309409114,
          -248.7490568593845
         ],
         "y": [
          -71.16612682926839,
          -132.06363652273143
         ],
         "z": [
          766.85,
          632.95
         ]
        },
        {
         "line": {
          "width": 2
         },
         "mode": "lines",
         "type": "scatter3d",
         "x": [
          -399.83532497452205,
          383
         ],
         "y": [
          340.187434220553,
          -29.05463974192628
         ],
         "z": [
          766.85,
          194.17732597180134
         ]
        },
        {
         "line": {
          "width": 2
         },
         "mode": "lines",
         "type": "scatter3d",
         "x": [
          209.45225038260287,
          -26.955584971960818
         ],
         "y": [
          268.63894143785814,
          344.0208964532492
         ],
         "z": [
          766.85,
          632.05
         ]
        },
        {
         "line": {
          "width": 2
         },
         "mode": "lines",
         "type": "scatter3d",
         "x": [
          -12.459451743706708,
          102.85998238327046
         ],
         "y": [
          -179.05,
          145.2152198619048
         ],
         "z": [
          307.1460887996716,
          632.95
         ]
        },
        {
         "line": {
          "width": 2
         },
         "mode": "lines",
         "type": "scatter3d",
         "x": [
          -230.13096386525837,
          -303.5063473781744
         ],
         "y": [
          -45.238809099590284,
          9.196887020266486
         ],
         "z": [
          767.3,
          632.95
         ]
        },
        {
         "line": {
          "width": 2
         },
         "mode": "lines",
         "type": "scatter3d",
         "x": [
          -263.09176665287544,
          -255.9615877939638
         ],
         "y": [
          245.9543934792399,
          256.67174873898364
         ],
         "z": [
          766.85,
          632.95
         ]
        },
        {
         "line": {
          "width": 2
         },
         "mode": "lines",
         "type": "scatter3d",
         "x": [
          202.6226126559417,
          169.34203754994687
         ],
         "y": [
          437.77092227216957,
          489.5929931766059
         ],
         "z": [
          766.85,
          632.95
         ]
        },
        {
         "line": {
          "width": 2
         },
         "mode": "lines",
         "type": "scatter3d",
         "x": [
          -398.33030817762676,
          -431.13864732869615
         ],
         "y": [
          234.2337786474306,
          274.0532222599794
         ],
         "z": [
          766.85,
          632.95
         ]
        },
        {
         "line": {
          "width": 2
         },
         "mode": "lines",
         "type": "scatter3d",
         "x": [
          269.6437089359988,
          383
         ],
         "y": [
          596.8970249139422,
          697.7764087431601
         ],
         "z": [
          632.95,
          27.91711154668991
         ]
        },
        {
         "line": {
          "width": 2
         },
         "mode": "lines",
         "type": "scatter3d",
         "x": [
          -11.297262448881373,
          -152.16392883089287
         ],
         "y": [
          -123.08332521151817,
          -60.4889480468667
         ],
         "z": [
          767.75,
          632.95
         ]
        },
        {
         "line": {
          "width": 2
         },
         "mode": "lines",
         "type": "scatter3d",
         "x": [
          -220.61097700982268,
          -179.01232364628947
         ],
         "y": [
          265.59072997141385,
          335.7249124057018
         ],
         "z": [
          767.3,
          632.95
         ]
        },
        {
         "line": {
          "width": 2
         },
         "mode": "lines",
         "type": "scatter3d",
         "x": [
          405.67728174117383,
          -383
         ],
         "y": [
          552.4110458764729,
          123.76316901563536
         ],
         "z": [
          766.85,
          -119.77893561093276
         ]
        },
        {
         "line": {
          "width": 2
         },
         "mode": "lines",
         "type": "scatter3d",
         "x": [
          65.80267930374559,
          67.72890537155436
         ],
         "y": [
          136.51464053288416,
          105.15365875710002
         ],
         "z": [
          767.75,
          632.05
         ]
        },
        {
         "line": {
          "width": 2
         },
         "mode": "lines",
         "type": "scatter3d",
         "x": [
          -156.99989630825942,
          -47.62319484382209
         ],
         "y": [
          -90.40254983404884,
          -79.81254156372601
         ],
         "z": [
          767.75,
          632.0500000000001
         ]
        },
        {
         "line": {
          "width": 2
         },
         "mode": "lines",
         "type": "scatter3d",
         "x": [
          13.213453433449715,
          7.057488669567672
         ],
         "y": [
          496.5925177554859,
          483.66150077286375
         ],
         "z": [
          632.05,
          767.75
         ]
        },
        {
         "line": {
          "width": 2
         },
         "mode": "lines",
         "type": "scatter3d",
         "x": [
          -403.4078755407097,
          -351.9402097570632
         ],
         "y": [
          -128.04376844304846,
          -6.722275065589285
         ],
         "z": [
          766.85,
          632.95
         ]
        },
        {
         "line": {
          "width": 2
         },
         "mode": "lines",
         "type": "scatter3d",
         "x": [
          340.0890325237439,
          406.1535075785272
         ],
         "y": [
          708.4739825943709,
          649.6997978617936
         ],
         "z": [
          766.85,
          632.95
         ]
        },
        {
         "line": {
          "width": 2
         },
         "mode": "lines",
         "type": "scatter3d",
         "x": [
          -105.0915467264114,
          -33.57157650764657
         ],
         "y": [
          383.98975865432726,
          332.5515554048975
         ],
         "z": [
          767.75,
          632.05
         ]
        },
        {
         "line": {
          "width": 2
         },
         "mode": "lines",
         "type": "scatter3d",
         "x": [
          -215.66802499728226,
          218.10293968288408
         ],
         "y": [
          287.8957650859367,
          770.95
         ],
         "z": [
          632.95,
          -157.71237393485643
         ]
        },
        {
         "line": {
          "width": 2
         },
         "mode": "lines",
         "type": "scatter3d",
         "x": [
          133.8893377514326,
          150.98932715205123
         ],
         "y": [
          -136.63107609264068,
          -114.86502291251861
         ],
         "z": [
          767.3,
          632.95
         ]
        },
        {
         "line": {
          "width": 2
         },
         "mode": "lines",
         "type": "scatter3d",
         "x": [
          343.0767295849971,
          273.1710178889771
         ],
         "y": [
          -22.146717314480767,
          21.03297602256699
         ],
         "z": [
          766.85,
          632.95
         ]
        },
        {
         "line": {
          "width": 2
         },
         "mode": "lines",
         "type": "scatter3d",
         "x": [
          -12.889494266830233,
          118.0962612677924
         ],
         "y": [
          -42.557029836766404,
          -179.05
         ],
         "z": [
          766.85,
          294.8002790192905
         ]
        },
        {
         "line": {
          "width": 2
         },
         "mode": "lines",
         "type": "scatter3d",
         "x": [
          -24.578692242447453,
          21.89288347200248
         ],
         "y": [
          583.0565375307967,
          569.4929637773449
         ],
         "z": [
          632.05,
          767.75
         ]
        },
        {
         "line": {
          "width": 2
         },
         "mode": "lines",
         "type": "scatter3d",
         "x": [
          -204.37972729857387,
          -281.13431820294954
         ],
         "y": [
          -73.43864847833387,
          -129.2286567398053
         ],
         "z": [
          767.3,
          632.95
         ]
        },
        {
         "line": {
          "width": 2
         },
         "mode": "lines",
         "type": "scatter3d",
         "x": [
          -263.3782135145666,
          -273.8251686272042
         ],
         "y": [
          575.7763078402111,
          770.95
         ],
         "z": [
          632.95,
          290.9827783396088
         ]
        },
        {
         "line": {
          "width": 2
         },
         "mode": "lines",
         "type": "scatter3d",
         "x": [
          437.25825305444346,
          445.1377120715212
         ],
         "y": [
          457.7363602638882,
          607.6882165123509
         ],
         "z": [
          632.95,
          766.85
         ]
        },
        {
         "line": {
          "width": 2
         },
         "mode": "lines",
         "type": "scatter3d",
         "x": [
          -39.46781224879199,
          -46.6433918025877
         ],
         "y": [
          687.3019792073134,
          642.0162195208759
         ],
         "z": [
          632.4100000000001,
          767.75
         ]
        },
        {
         "line": {
          "width": 2
         },
         "mode": "lines",
         "type": "scatter3d",
         "x": [
          314.9807918225964,
          301.92428297859345
         ],
         "y": [
          184.2658978366772,
          199.89347078233396
         ],
         "z": [
          766.85,
          632.95
         ]
        },
        {
         "line": {
          "width": 2
         },
         "mode": "lines",
         "type": "scatter3d",
         "x": [
          289.90556224406635,
          346.68092084525694
         ],
         "y": [
          361.3334206592516,
          434.32506089185006
         ],
         "z": [
          766.85,
          632.95
         ]
        },
        {
         "line": {
          "width": 2
         },
         "mode": "lines",
         "type": "scatter3d",
         "x": [
          -259.4050432733255,
          -325.77086511817174
         ],
         "y": [
          -71.79843936478362,
          156.19120067395897
         ],
         "z": [
          767.15,
          632.9499999999999
         ]
        },
        {
         "line": {
          "width": 2
         },
         "mode": "lines",
         "type": "scatter3d",
         "x": [
          -252.46317914666406,
          -219.0432495428288
         ],
         "y": [
          -179.05,
          -64.77213575267736
         ],
         "z": [
          264.40438621561043,
          632.95
         ]
        },
        {
         "line": {
          "width": 2
         },
         "mode": "lines",
         "type": "scatter3d",
         "x": [
          -26.74047868420557,
          79.24409445823376
         ],
         "y": [
          256.21174311926603,
          140.30750909645505
         ],
         "z": [
          767.75,
          632.05
         ]
        },
        {
         "line": {
          "width": 2
         },
         "mode": "lines",
         "type": "scatter3d",
         "x": [
          -179.3505050418138,
          -281.6356397749448
         ],
         "y": [
          63.62763461457402,
          72.46124876549979
         ],
         "z": [
          632.95,
          766.85
         ]
        },
        {
         "line": {
          "width": 2
         },
         "mode": "lines",
         "type": "scatter3d",
         "x": [
          -193.95332573953735,
          -383
         ],
         "y": [
          552.0396132386091,
          400.34132109344114
         ],
         "z": [
          632.95,
          296.7850483350252
         ]
        },
        {
         "line": {
          "width": 2
         },
         "mode": "lines",
         "type": "scatter3d",
         "x": [
          404.27294117647057,
          368.0888840104255
         ],
         "y": [
          470.83196536362414,
          392.5333302478792
         ],
         "z": [
          766.85,
          632.95
         ]
        }
       ],
       "layout": {
        "scene": {
         "xaxis": {
          "title": {
           "text": "X"
          }
         },
         "yaxis": {
          "title": {
           "text": "Z"
          }
         },
         "zaxis": {
          "title": {
           "text": "Y"
          }
         }
        },
        "template": {
         "data": {
          "bar": [
           {
            "error_x": {
             "color": "#2a3f5f"
            },
            "error_y": {
             "color": "#2a3f5f"
            },
            "marker": {
             "line": {
              "color": "#E5ECF6",
              "width": 0.5
             },
             "pattern": {
              "fillmode": "overlay",
              "size": 10,
              "solidity": 0.2
             }
            },
            "type": "bar"
           }
          ],
          "barpolar": [
           {
            "marker": {
             "line": {
              "color": "#E5ECF6",
              "width": 0.5
             },
             "pattern": {
              "fillmode": "overlay",
              "size": 10,
              "solidity": 0.2
             }
            },
            "type": "barpolar"
           }
          ],
          "carpet": [
           {
            "aaxis": {
             "endlinecolor": "#2a3f5f",
             "gridcolor": "white",
             "linecolor": "white",
             "minorgridcolor": "white",
             "startlinecolor": "#2a3f5f"
            },
            "baxis": {
             "endlinecolor": "#2a3f5f",
             "gridcolor": "white",
             "linecolor": "white",
             "minorgridcolor": "white",
             "startlinecolor": "#2a3f5f"
            },
            "type": "carpet"
           }
          ],
          "choropleth": [
           {
            "colorbar": {
             "outlinewidth": 0,
             "ticks": ""
            },
            "type": "choropleth"
           }
          ],
          "contour": [
           {
            "colorbar": {
             "outlinewidth": 0,
             "ticks": ""
            },
            "colorscale": [
             [
              0,
              "#0d0887"
             ],
             [
              0.1111111111111111,
              "#46039f"
             ],
             [
              0.2222222222222222,
              "#7201a8"
             ],
             [
              0.3333333333333333,
              "#9c179e"
             ],
             [
              0.4444444444444444,
              "#bd3786"
             ],
             [
              0.5555555555555556,
              "#d8576b"
             ],
             [
              0.6666666666666666,
              "#ed7953"
             ],
             [
              0.7777777777777778,
              "#fb9f3a"
             ],
             [
              0.8888888888888888,
              "#fdca26"
             ],
             [
              1,
              "#f0f921"
             ]
            ],
            "type": "contour"
           }
          ],
          "contourcarpet": [
           {
            "colorbar": {
             "outlinewidth": 0,
             "ticks": ""
            },
            "type": "contourcarpet"
           }
          ],
          "heatmap": [
           {
            "colorbar": {
             "outlinewidth": 0,
             "ticks": ""
            },
            "colorscale": [
             [
              0,
              "#0d0887"
             ],
             [
              0.1111111111111111,
              "#46039f"
             ],
             [
              0.2222222222222222,
              "#7201a8"
             ],
             [
              0.3333333333333333,
              "#9c179e"
             ],
             [
              0.4444444444444444,
              "#bd3786"
             ],
             [
              0.5555555555555556,
              "#d8576b"
             ],
             [
              0.6666666666666666,
              "#ed7953"
             ],
             [
              0.7777777777777778,
              "#fb9f3a"
             ],
             [
              0.8888888888888888,
              "#fdca26"
             ],
             [
              1,
              "#f0f921"
             ]
            ],
            "type": "heatmap"
           }
          ],
          "heatmapgl": [
           {
            "colorbar": {
             "outlinewidth": 0,
             "ticks": ""
            },
            "colorscale": [
             [
              0,
              "#0d0887"
             ],
             [
              0.1111111111111111,
              "#46039f"
             ],
             [
              0.2222222222222222,
              "#7201a8"
             ],
             [
              0.3333333333333333,
              "#9c179e"
             ],
             [
              0.4444444444444444,
              "#bd3786"
             ],
             [
              0.5555555555555556,
              "#d8576b"
             ],
             [
              0.6666666666666666,
              "#ed7953"
             ],
             [
              0.7777777777777778,
              "#fb9f3a"
             ],
             [
              0.8888888888888888,
              "#fdca26"
             ],
             [
              1,
              "#f0f921"
             ]
            ],
            "type": "heatmapgl"
           }
          ],
          "histogram": [
           {
            "marker": {
             "pattern": {
              "fillmode": "overlay",
              "size": 10,
              "solidity": 0.2
             }
            },
            "type": "histogram"
           }
          ],
          "histogram2d": [
           {
            "colorbar": {
             "outlinewidth": 0,
             "ticks": ""
            },
            "colorscale": [
             [
              0,
              "#0d0887"
             ],
             [
              0.1111111111111111,
              "#46039f"
             ],
             [
              0.2222222222222222,
              "#7201a8"
             ],
             [
              0.3333333333333333,
              "#9c179e"
             ],
             [
              0.4444444444444444,
              "#bd3786"
             ],
             [
              0.5555555555555556,
              "#d8576b"
             ],
             [
              0.6666666666666666,
              "#ed7953"
             ],
             [
              0.7777777777777778,
              "#fb9f3a"
             ],
             [
              0.8888888888888888,
              "#fdca26"
             ],
             [
              1,
              "#f0f921"
             ]
            ],
            "type": "histogram2d"
           }
          ],
          "histogram2dcontour": [
           {
            "colorbar": {
             "outlinewidth": 0,
             "ticks": ""
            },
            "colorscale": [
             [
              0,
              "#0d0887"
             ],
             [
              0.1111111111111111,
              "#46039f"
             ],
             [
              0.2222222222222222,
              "#7201a8"
             ],
             [
              0.3333333333333333,
              "#9c179e"
             ],
             [
              0.4444444444444444,
              "#bd3786"
             ],
             [
              0.5555555555555556,
              "#d8576b"
             ],
             [
              0.6666666666666666,
              "#ed7953"
             ],
             [
              0.7777777777777778,
              "#fb9f3a"
             ],
             [
              0.8888888888888888,
              "#fdca26"
             ],
             [
              1,
              "#f0f921"
             ]
            ],
            "type": "histogram2dcontour"
           }
          ],
          "mesh3d": [
           {
            "colorbar": {
             "outlinewidth": 0,
             "ticks": ""
            },
            "type": "mesh3d"
           }
          ],
          "parcoords": [
           {
            "line": {
             "colorbar": {
              "outlinewidth": 0,
              "ticks": ""
             }
            },
            "type": "parcoords"
           }
          ],
          "pie": [
           {
            "automargin": true,
            "type": "pie"
           }
          ],
          "scatter": [
           {
            "fillpattern": {
             "fillmode": "overlay",
             "size": 10,
             "solidity": 0.2
            },
            "type": "scatter"
           }
          ],
          "scatter3d": [
           {
            "line": {
             "colorbar": {
              "outlinewidth": 0,
              "ticks": ""
             }
            },
            "marker": {
             "colorbar": {
              "outlinewidth": 0,
              "ticks": ""
             }
            },
            "type": "scatter3d"
           }
          ],
          "scattercarpet": [
           {
            "marker": {
             "colorbar": {
              "outlinewidth": 0,
              "ticks": ""
             }
            },
            "type": "scattercarpet"
           }
          ],
          "scattergeo": [
           {
            "marker": {
             "colorbar": {
              "outlinewidth": 0,
              "ticks": ""
             }
            },
            "type": "scattergeo"
           }
          ],
          "scattergl": [
           {
            "marker": {
             "colorbar": {
              "outlinewidth": 0,
              "ticks": ""
             }
            },
            "type": "scattergl"
           }
          ],
          "scattermapbox": [
           {
            "marker": {
             "colorbar": {
              "outlinewidth": 0,
              "ticks": ""
             }
            },
            "type": "scattermapbox"
           }
          ],
          "scatterpolar": [
           {
            "marker": {
             "colorbar": {
              "outlinewidth": 0,
              "ticks": ""
             }
            },
            "type": "scatterpolar"
           }
          ],
          "scatterpolargl": [
           {
            "marker": {
             "colorbar": {
              "outlinewidth": 0,
              "ticks": ""
             }
            },
            "type": "scatterpolargl"
           }
          ],
          "scatterternary": [
           {
            "marker": {
             "colorbar": {
              "outlinewidth": 0,
              "ticks": ""
             }
            },
            "type": "scatterternary"
           }
          ],
          "surface": [
           {
            "colorbar": {
             "outlinewidth": 0,
             "ticks": ""
            },
            "colorscale": [
             [
              0,
              "#0d0887"
             ],
             [
              0.1111111111111111,
              "#46039f"
             ],
             [
              0.2222222222222222,
              "#7201a8"
             ],
             [
              0.3333333333333333,
              "#9c179e"
             ],
             [
              0.4444444444444444,
              "#bd3786"
             ],
             [
              0.5555555555555556,
              "#d8576b"
             ],
             [
              0.6666666666666666,
              "#ed7953"
             ],
             [
              0.7777777777777778,
              "#fb9f3a"
             ],
             [
              0.8888888888888888,
              "#fdca26"
             ],
             [
              1,
              "#f0f921"
             ]
            ],
            "type": "surface"
           }
          ],
          "table": [
           {
            "cells": {
             "fill": {
              "color": "#EBF0F8"
             },
             "line": {
              "color": "white"
             }
            },
            "header": {
             "fill": {
              "color": "#C8D4E3"
             },
             "line": {
              "color": "white"
             }
            },
            "type": "table"
           }
          ]
         },
         "layout": {
          "annotationdefaults": {
           "arrowcolor": "#2a3f5f",
           "arrowhead": 0,
           "arrowwidth": 1
          },
          "autotypenumbers": "strict",
          "coloraxis": {
           "colorbar": {
            "outlinewidth": 0,
            "ticks": ""
           }
          },
          "colorscale": {
           "diverging": [
            [
             0,
             "#8e0152"
            ],
            [
             0.1,
             "#c51b7d"
            ],
            [
             0.2,
             "#de77ae"
            ],
            [
             0.3,
             "#f1b6da"
            ],
            [
             0.4,
             "#fde0ef"
            ],
            [
             0.5,
             "#f7f7f7"
            ],
            [
             0.6,
             "#e6f5d0"
            ],
            [
             0.7,
             "#b8e186"
            ],
            [
             0.8,
             "#7fbc41"
            ],
            [
             0.9,
             "#4d9221"
            ],
            [
             1,
             "#276419"
            ]
           ],
           "sequential": [
            [
             0,
             "#0d0887"
            ],
            [
             0.1111111111111111,
             "#46039f"
            ],
            [
             0.2222222222222222,
             "#7201a8"
            ],
            [
             0.3333333333333333,
             "#9c179e"
            ],
            [
             0.4444444444444444,
             "#bd3786"
            ],
            [
             0.5555555555555556,
             "#d8576b"
            ],
            [
             0.6666666666666666,
             "#ed7953"
            ],
            [
             0.7777777777777778,
             "#fb9f3a"
            ],
            [
             0.8888888888888888,
             "#fdca26"
            ],
            [
             1,
             "#f0f921"
            ]
           ],
           "sequentialminus": [
            [
             0,
             "#0d0887"
            ],
            [
             0.1111111111111111,
             "#46039f"
            ],
            [
             0.2222222222222222,
             "#7201a8"
            ],
            [
             0.3333333333333333,
             "#9c179e"
            ],
            [
             0.4444444444444444,
             "#bd3786"
            ],
            [
             0.5555555555555556,
             "#d8576b"
            ],
            [
             0.6666666666666666,
             "#ed7953"
            ],
            [
             0.7777777777777778,
             "#fb9f3a"
            ],
            [
             0.8888888888888888,
             "#fdca26"
            ],
            [
             1,
             "#f0f921"
            ]
           ]
          },
          "colorway": [
           "#636efa",
           "#EF553B",
           "#00cc96",
           "#ab63fa",
           "#FFA15A",
           "#19d3f3",
           "#FF6692",
           "#B6E880",
           "#FF97FF",
           "#FECB52"
          ],
          "font": {
           "color": "#2a3f5f"
          },
          "geo": {
           "bgcolor": "white",
           "lakecolor": "white",
           "landcolor": "#E5ECF6",
           "showlakes": true,
           "showland": true,
           "subunitcolor": "white"
          },
          "hoverlabel": {
           "align": "left"
          },
          "hovermode": "closest",
          "mapbox": {
           "style": "light"
          },
          "paper_bgcolor": "white",
          "plot_bgcolor": "#E5ECF6",
          "polar": {
           "angularaxis": {
            "gridcolor": "white",
            "linecolor": "white",
            "ticks": ""
           },
           "bgcolor": "#E5ECF6",
           "radialaxis": {
            "gridcolor": "white",
            "linecolor": "white",
            "ticks": ""
           }
          },
          "scene": {
           "xaxis": {
            "backgroundcolor": "#E5ECF6",
            "gridcolor": "white",
            "gridwidth": 2,
            "linecolor": "white",
            "showbackground": true,
            "ticks": "",
            "zerolinecolor": "white"
           },
           "yaxis": {
            "backgroundcolor": "#E5ECF6",
            "gridcolor": "white",
            "gridwidth": 2,
            "linecolor": "white",
            "showbackground": true,
            "ticks": "",
            "zerolinecolor": "white"
           },
           "zaxis": {
            "backgroundcolor": "#E5ECF6",
            "gridcolor": "white",
            "gridwidth": 2,
            "linecolor": "white",
            "showbackground": true,
            "ticks": "",
            "zerolinecolor": "white"
           }
          },
          "shapedefaults": {
           "line": {
            "color": "#2a3f5f"
           }
          },
          "ternary": {
           "aaxis": {
            "gridcolor": "white",
            "linecolor": "white",
            "ticks": ""
           },
           "baxis": {
            "gridcolor": "white",
            "linecolor": "white",
            "ticks": ""
           },
           "bgcolor": "#E5ECF6",
           "caxis": {
            "gridcolor": "white",
            "linecolor": "white",
            "ticks": ""
           }
          },
          "title": {
           "x": 0.05
          },
          "xaxis": {
           "automargin": true,
           "gridcolor": "white",
           "linecolor": "white",
           "ticks": "",
           "title": {
            "standoff": 15
           },
           "zerolinecolor": "white",
           "zerolinewidth": 2
          },
          "yaxis": {
           "automargin": true,
           "gridcolor": "white",
           "linecolor": "white",
           "ticks": "",
           "title": {
            "standoff": 15
           },
           "zerolinecolor": "white",
           "zerolinewidth": 2
          }
         }
        },
        "title": {
         "text": "Top Wall Tracks"
        }
       }
      },
      "text/html": [
       "<div>                            <div id=\"711fc85a-5f1f-44f8-9212-7dd7e68684e8\" class=\"plotly-graph-div\" style=\"height:525px; width:100%;\"></div>            <script type=\"text/javascript\">                require([\"plotly\"], function(Plotly) {                    window.PLOTLYENV=window.PLOTLYENV || {};                                    if (document.getElementById(\"711fc85a-5f1f-44f8-9212-7dd7e68684e8\")) {                    Plotly.newPlot(                        \"711fc85a-5f1f-44f8-9212-7dd7e68684e8\",                        [{\"line\":{\"width\":2},\"mode\":\"lines\",\"x\":[-293.7282892991524,-103.15311297698557],\"y\":[132.93984993580204,-40.26974870250953],\"z\":[766.85,632.95],\"type\":\"scatter3d\"},{\"line\":{\"width\":2},\"mode\":\"lines\",\"x\":[99.84878531128213,75.97779282378971],\"y\":[634.8288215556439,676.4955756879945],\"z\":[767.3,632.05],\"type\":\"scatter3d\"},{\"line\":{\"width\":2},\"mode\":\"lines\",\"x\":[258.24902541156865,126.67704025681077],\"y\":[-95.34080174139038,181.79894808014413],\"z\":[632.95,766.85],\"type\":\"scatter3d\"},{\"line\":{\"width\":2},\"mode\":\"lines\",\"x\":[-256.6663827326495,-402.4132861874842],\"y\":[699.1590741046427,559.8985224630678],\"z\":[632.95,766.85],\"type\":\"scatter3d\"},{\"line\":{\"width\":2},\"mode\":\"lines\",\"x\":[-142.03659851635774,-140.76090798061725],\"y\":[-96.82890686985547,-43.898976175010674],\"z\":[767.75,632.95],\"type\":\"scatter3d\"},{\"line\":{\"width\":2},\"mode\":\"lines\",\"x\":[-327.59841479524437,-387.78551932615267],\"y\":[244.65226613861387,566.1850069422012],\"z\":[632.95,766.85],\"type\":\"scatter3d\"},{\"line\":{\"width\":2},\"mode\":\"lines\",\"x\":[80.10745496669392,-23.728585094892765],\"y\":[49.03838865452272,-89.22374846419707],\"z\":[767.75,632.0500000000001],\"type\":\"scatter3d\"},{\"line\":{\"width\":2},\"mode\":\"lines\",\"x\":[-145.5190744374039,383.0],\"y\":[106.77535801784215,218.76898682329863],\"z\":[766.85,190.22761312866288],\"type\":\"scatter3d\"},{\"line\":{\"width\":2},\"mode\":\"lines\",\"x\":[-167.01688917673727,-192.98944668244306],\"y\":[381.5508483605412,397.6061857307825],\"z\":[632.95,767.3],\"type\":\"scatter3d\"},{\"line\":{\"width\":2},\"mode\":\"lines\",\"x\":[-30.56036633973715,-34.65065730153407],\"y\":[462.6342587514689,536.5311149585636],\"z\":[632.05,767.75],\"type\":\"scatter3d\"},{\"line\":{\"width\":2},\"mode\":\"lines\",\"x\":[177.0673204337384,247.51241469053917],\"y\":[-58.86104299026381,-52.54898495438107],\"z\":[632.95,766.85],\"type\":\"scatter3d\"},{\"line\":{\"width\":2},\"mode\":\"lines\",\"x\":[223.5906602491939,192.2453991547616],\"y\":[466.29860462447647,469.2844914442518],\"z\":[766.85,632.95],\"type\":\"scatter3d\"},{\"line\":{\"width\":2},\"mode\":\"lines\",\"x\":[-418.30792033944385,-413.11739610326885],\"y\":[25.034462198464595,346.81181147034283],\"z\":[632.95,766.85],\"type\":\"scatter3d\"},{\"line\":{\"width\":2},\"mode\":\"lines\",\"x\":[68.94534349198022,-383.0],\"y\":[180.20494418762436,139.90212645831784],\"z\":[766.85,98.58729065368999],\"type\":\"scatter3d\"},{\"line\":{\"width\":2},\"mode\":\"lines\",\"x\":[-227.04720304760207,-221.18154601649104],\"y\":[6.5880555354000325,44.219678489586514],\"z\":[767.3,632.95],\"type\":\"scatter3d\"},{\"line\":{\"width\":2},\"mode\":\"lines\",\"x\":[-252.78294420198975,-228.98611244871623],\"y\":[-100.24515606898012,116.60437542673029],\"z\":[766.85,632.95],\"type\":\"scatter3d\"},{\"line\":{\"width\":2},\"mode\":\"lines\",\"x\":[-201.5909929262993,120.6257125584338],\"y\":[579.3761540332034,534.561423130827],\"z\":[632.95,767.3],\"type\":\"scatter3d\"},{\"line\":{\"width\":2},\"mode\":\"lines\",\"x\":[-394.92288934887176,-375.1856599574773],\"y\":[243.50240156221253,257.86864885045225],\"z\":[766.85,632.95],\"type\":\"scatter3d\"},{\"line\":{\"width\":2},\"mode\":\"lines\",\"x\":[-219.1777300502539,169.11938584930934],\"y\":[473.96462085557556,770.95],\"z\":[632.95,220.47812584844752],\"type\":\"scatter3d\"},{\"line\":{\"width\":2},\"mode\":\"lines\",\"x\":[418.34434634213983,400.0603301949217],\"y\":[-105.09615239078889,-132.27427355279082],\"z\":[766.85,632.95],\"type\":\"scatter3d\"},{\"line\":{\"width\":2},\"mode\":\"lines\",\"x\":[54.24514415788921,10.09234526030184],\"y\":[221.0562238157655,400.86771639141426],\"z\":[767.75,632.05],\"type\":\"scatter3d\"},{\"line\":{\"width\":2},\"mode\":\"lines\",\"x\":[-31.338318406973286,-10.63641035350117],\"y\":[-1.1622077646820381,-81.23191102088967],\"z\":[632.0500000000001,767.75],\"type\":\"scatter3d\"},{\"line\":{\"width\":2},\"mode\":\"lines\",\"x\":[-374.1148230442434,-391.690270310522],\"y\":[449.18019958172204,457.7470544028753],\"z\":[632.95,766.85],\"type\":\"scatter3d\"},{\"line\":{\"width\":2},\"mode\":\"lines\",\"x\":[-151.62383748129463,-135.93596169687535],\"y\":[88.60180588351508,80.9908796919387],\"z\":[767.75,632.95],\"type\":\"scatter3d\"},{\"line\":{\"width\":2},\"mode\":\"lines\",\"x\":[140.27746214786737,123.50122265771813],\"y\":[222.64602709066767,268.90589847947126],\"z\":[767.3,632.95],\"type\":\"scatter3d\"},{\"line\":{\"width\":2},\"mode\":\"lines\",\"x\":[200.74379533173914,233.39960851515065],\"y\":[47.95036620873343,12.331666944703818],\"z\":[766.85,632.95],\"type\":\"scatter3d\"},{\"line\":{\"width\":2},\"mode\":\"lines\",\"x\":[-8.557227902992413,88.79598342522458],\"y\":[133.78064403384474,770.95],\"z\":[766.85,19.85261458480602],\"type\":\"scatter3d\"},{\"line\":{\"width\":2},\"mode\":\"lines\",\"x\":[22.038962629975245,66.95538898940292],\"y\":[481.0149733172663,609.1569688887209],\"z\":[632.05,767.75],\"type\":\"scatter3d\"},{\"line\":{\"width\":2},\"mode\":\"lines\",\"x\":[-16.836625681539516,-115.88147786387884],\"y\":[90.67351474000094,109.21439842736449],\"z\":[766.85,632.95],\"type\":\"scatter3d\"},{\"line\":{\"width\":2},\"mode\":\"lines\",\"x\":[-281.14290309409114,-248.7490568593845],\"y\":[-71.16612682926839,-132.06363652273143],\"z\":[766.85,632.95],\"type\":\"scatter3d\"},{\"line\":{\"width\":2},\"mode\":\"lines\",\"x\":[-399.83532497452205,383.0],\"y\":[340.187434220553,-29.05463974192628],\"z\":[766.85,194.17732597180134],\"type\":\"scatter3d\"},{\"line\":{\"width\":2},\"mode\":\"lines\",\"x\":[209.45225038260287,-26.955584971960818],\"y\":[268.63894143785814,344.0208964532492],\"z\":[766.85,632.05],\"type\":\"scatter3d\"},{\"line\":{\"width\":2},\"mode\":\"lines\",\"x\":[-12.459451743706708,102.85998238327046],\"y\":[-179.05,145.2152198619048],\"z\":[307.1460887996716,632.95],\"type\":\"scatter3d\"},{\"line\":{\"width\":2},\"mode\":\"lines\",\"x\":[-230.13096386525837,-303.5063473781744],\"y\":[-45.238809099590284,9.196887020266486],\"z\":[767.3,632.95],\"type\":\"scatter3d\"},{\"line\":{\"width\":2},\"mode\":\"lines\",\"x\":[-263.09176665287544,-255.9615877939638],\"y\":[245.9543934792399,256.67174873898364],\"z\":[766.85,632.95],\"type\":\"scatter3d\"},{\"line\":{\"width\":2},\"mode\":\"lines\",\"x\":[202.6226126559417,169.34203754994687],\"y\":[437.77092227216957,489.5929931766059],\"z\":[766.85,632.95],\"type\":\"scatter3d\"},{\"line\":{\"width\":2},\"mode\":\"lines\",\"x\":[-398.33030817762676,-431.13864732869615],\"y\":[234.2337786474306,274.0532222599794],\"z\":[766.85,632.95],\"type\":\"scatter3d\"},{\"line\":{\"width\":2},\"mode\":\"lines\",\"x\":[269.6437089359988,383.0],\"y\":[596.8970249139422,697.7764087431601],\"z\":[632.95,27.91711154668991],\"type\":\"scatter3d\"},{\"line\":{\"width\":2},\"mode\":\"lines\",\"x\":[-11.297262448881373,-152.16392883089287],\"y\":[-123.08332521151817,-60.4889480468667],\"z\":[767.75,632.95],\"type\":\"scatter3d\"},{\"line\":{\"width\":2},\"mode\":\"lines\",\"x\":[-220.61097700982268,-179.01232364628947],\"y\":[265.59072997141385,335.7249124057018],\"z\":[767.3,632.95],\"type\":\"scatter3d\"},{\"line\":{\"width\":2},\"mode\":\"lines\",\"x\":[405.67728174117383,-383.0],\"y\":[552.4110458764729,123.76316901563536],\"z\":[766.85,-119.77893561093276],\"type\":\"scatter3d\"},{\"line\":{\"width\":2},\"mode\":\"lines\",\"x\":[65.80267930374559,67.72890537155436],\"y\":[136.51464053288416,105.15365875710002],\"z\":[767.75,632.05],\"type\":\"scatter3d\"},{\"line\":{\"width\":2},\"mode\":\"lines\",\"x\":[-156.99989630825942,-47.62319484382209],\"y\":[-90.40254983404884,-79.81254156372601],\"z\":[767.75,632.0500000000001],\"type\":\"scatter3d\"},{\"line\":{\"width\":2},\"mode\":\"lines\",\"x\":[13.213453433449715,7.057488669567672],\"y\":[496.5925177554859,483.66150077286375],\"z\":[632.05,767.75],\"type\":\"scatter3d\"},{\"line\":{\"width\":2},\"mode\":\"lines\",\"x\":[-403.4078755407097,-351.9402097570632],\"y\":[-128.04376844304846,-6.722275065589285],\"z\":[766.85,632.95],\"type\":\"scatter3d\"},{\"line\":{\"width\":2},\"mode\":\"lines\",\"x\":[340.0890325237439,406.1535075785272],\"y\":[708.4739825943709,649.6997978617936],\"z\":[766.85,632.95],\"type\":\"scatter3d\"},{\"line\":{\"width\":2},\"mode\":\"lines\",\"x\":[-105.0915467264114,-33.57157650764657],\"y\":[383.98975865432726,332.5515554048975],\"z\":[767.75,632.05],\"type\":\"scatter3d\"},{\"line\":{\"width\":2},\"mode\":\"lines\",\"x\":[-215.66802499728226,218.10293968288408],\"y\":[287.8957650859367,770.95],\"z\":[632.95,-157.71237393485643],\"type\":\"scatter3d\"},{\"line\":{\"width\":2},\"mode\":\"lines\",\"x\":[133.8893377514326,150.98932715205123],\"y\":[-136.63107609264068,-114.86502291251861],\"z\":[767.3,632.95],\"type\":\"scatter3d\"},{\"line\":{\"width\":2},\"mode\":\"lines\",\"x\":[343.0767295849971,273.1710178889771],\"y\":[-22.146717314480767,21.03297602256699],\"z\":[766.85,632.95],\"type\":\"scatter3d\"},{\"line\":{\"width\":2},\"mode\":\"lines\",\"x\":[-12.889494266830233,118.0962612677924],\"y\":[-42.557029836766404,-179.05],\"z\":[766.85,294.8002790192905],\"type\":\"scatter3d\"},{\"line\":{\"width\":2},\"mode\":\"lines\",\"x\":[-24.578692242447453,21.89288347200248],\"y\":[583.0565375307967,569.4929637773449],\"z\":[632.05,767.75],\"type\":\"scatter3d\"},{\"line\":{\"width\":2},\"mode\":\"lines\",\"x\":[-204.37972729857387,-281.13431820294954],\"y\":[-73.43864847833387,-129.2286567398053],\"z\":[767.3,632.95],\"type\":\"scatter3d\"},{\"line\":{\"width\":2},\"mode\":\"lines\",\"x\":[-263.3782135145666,-273.8251686272042],\"y\":[575.7763078402111,770.95],\"z\":[632.95,290.9827783396088],\"type\":\"scatter3d\"},{\"line\":{\"width\":2},\"mode\":\"lines\",\"x\":[437.25825305444346,445.1377120715212],\"y\":[457.7363602638882,607.6882165123509],\"z\":[632.95,766.85],\"type\":\"scatter3d\"},{\"line\":{\"width\":2},\"mode\":\"lines\",\"x\":[-39.46781224879199,-46.6433918025877],\"y\":[687.3019792073134,642.0162195208759],\"z\":[632.4100000000001,767.75],\"type\":\"scatter3d\"},{\"line\":{\"width\":2},\"mode\":\"lines\",\"x\":[314.9807918225964,301.92428297859345],\"y\":[184.2658978366772,199.89347078233396],\"z\":[766.85,632.95],\"type\":\"scatter3d\"},{\"line\":{\"width\":2},\"mode\":\"lines\",\"x\":[289.90556224406635,346.68092084525694],\"y\":[361.3334206592516,434.32506089185006],\"z\":[766.85,632.95],\"type\":\"scatter3d\"},{\"line\":{\"width\":2},\"mode\":\"lines\",\"x\":[-259.4050432733255,-325.77086511817174],\"y\":[-71.79843936478362,156.19120067395897],\"z\":[767.15,632.9499999999999],\"type\":\"scatter3d\"},{\"line\":{\"width\":2},\"mode\":\"lines\",\"x\":[-252.46317914666406,-219.0432495428288],\"y\":[-179.05,-64.77213575267736],\"z\":[264.40438621561043,632.95],\"type\":\"scatter3d\"},{\"line\":{\"width\":2},\"mode\":\"lines\",\"x\":[-26.74047868420557,79.24409445823376],\"y\":[256.21174311926603,140.30750909645505],\"z\":[767.75,632.05],\"type\":\"scatter3d\"},{\"line\":{\"width\":2},\"mode\":\"lines\",\"x\":[-179.3505050418138,-281.6356397749448],\"y\":[63.62763461457402,72.46124876549979],\"z\":[632.95,766.85],\"type\":\"scatter3d\"},{\"line\":{\"width\":2},\"mode\":\"lines\",\"x\":[-193.95332573953735,-383.0],\"y\":[552.0396132386091,400.34132109344114],\"z\":[632.95,296.7850483350252],\"type\":\"scatter3d\"},{\"line\":{\"width\":2},\"mode\":\"lines\",\"x\":[404.27294117647057,368.0888840104255],\"y\":[470.83196536362414,392.5333302478792],\"z\":[766.85,632.95],\"type\":\"scatter3d\"}],                        {\"template\":{\"data\":{\"histogram2dcontour\":[{\"type\":\"histogram2dcontour\",\"colorbar\":{\"outlinewidth\":0,\"ticks\":\"\"},\"colorscale\":[[0.0,\"#0d0887\"],[0.1111111111111111,\"#46039f\"],[0.2222222222222222,\"#7201a8\"],[0.3333333333333333,\"#9c179e\"],[0.4444444444444444,\"#bd3786\"],[0.5555555555555556,\"#d8576b\"],[0.6666666666666666,\"#ed7953\"],[0.7777777777777778,\"#fb9f3a\"],[0.8888888888888888,\"#fdca26\"],[1.0,\"#f0f921\"]]}],\"choropleth\":[{\"type\":\"choropleth\",\"colorbar\":{\"outlinewidth\":0,\"ticks\":\"\"}}],\"histogram2d\":[{\"type\":\"histogram2d\",\"colorbar\":{\"outlinewidth\":0,\"ticks\":\"\"},\"colorscale\":[[0.0,\"#0d0887\"],[0.1111111111111111,\"#46039f\"],[0.2222222222222222,\"#7201a8\"],[0.3333333333333333,\"#9c179e\"],[0.4444444444444444,\"#bd3786\"],[0.5555555555555556,\"#d8576b\"],[0.6666666666666666,\"#ed7953\"],[0.7777777777777778,\"#fb9f3a\"],[0.8888888888888888,\"#fdca26\"],[1.0,\"#f0f921\"]]}],\"heatmap\":[{\"type\":\"heatmap\",\"colorbar\":{\"outlinewidth\":0,\"ticks\":\"\"},\"colorscale\":[[0.0,\"#0d0887\"],[0.1111111111111111,\"#46039f\"],[0.2222222222222222,\"#7201a8\"],[0.3333333333333333,\"#9c179e\"],[0.4444444444444444,\"#bd3786\"],[0.5555555555555556,\"#d8576b\"],[0.6666666666666666,\"#ed7953\"],[0.7777777777777778,\"#fb9f3a\"],[0.8888888888888888,\"#fdca26\"],[1.0,\"#f0f921\"]]}],\"heatmapgl\":[{\"type\":\"heatmapgl\",\"colorbar\":{\"outlinewidth\":0,\"ticks\":\"\"},\"colorscale\":[[0.0,\"#0d0887\"],[0.1111111111111111,\"#46039f\"],[0.2222222222222222,\"#7201a8\"],[0.3333333333333333,\"#9c179e\"],[0.4444444444444444,\"#bd3786\"],[0.5555555555555556,\"#d8576b\"],[0.6666666666666666,\"#ed7953\"],[0.7777777777777778,\"#fb9f3a\"],[0.8888888888888888,\"#fdca26\"],[1.0,\"#f0f921\"]]}],\"contourcarpet\":[{\"type\":\"contourcarpet\",\"colorbar\":{\"outlinewidth\":0,\"ticks\":\"\"}}],\"contour\":[{\"type\":\"contour\",\"colorbar\":{\"outlinewidth\":0,\"ticks\":\"\"},\"colorscale\":[[0.0,\"#0d0887\"],[0.1111111111111111,\"#46039f\"],[0.2222222222222222,\"#7201a8\"],[0.3333333333333333,\"#9c179e\"],[0.4444444444444444,\"#bd3786\"],[0.5555555555555556,\"#d8576b\"],[0.6666666666666666,\"#ed7953\"],[0.7777777777777778,\"#fb9f3a\"],[0.8888888888888888,\"#fdca26\"],[1.0,\"#f0f921\"]]}],\"surface\":[{\"type\":\"surface\",\"colorbar\":{\"outlinewidth\":0,\"ticks\":\"\"},\"colorscale\":[[0.0,\"#0d0887\"],[0.1111111111111111,\"#46039f\"],[0.2222222222222222,\"#7201a8\"],[0.3333333333333333,\"#9c179e\"],[0.4444444444444444,\"#bd3786\"],[0.5555555555555556,\"#d8576b\"],[0.6666666666666666,\"#ed7953\"],[0.7777777777777778,\"#fb9f3a\"],[0.8888888888888888,\"#fdca26\"],[1.0,\"#f0f921\"]]}],\"mesh3d\":[{\"type\":\"mesh3d\",\"colorbar\":{\"outlinewidth\":0,\"ticks\":\"\"}}],\"scatter\":[{\"fillpattern\":{\"fillmode\":\"overlay\",\"size\":10,\"solidity\":0.2},\"type\":\"scatter\"}],\"parcoords\":[{\"type\":\"parcoords\",\"line\":{\"colorbar\":{\"outlinewidth\":0,\"ticks\":\"\"}}}],\"scatterpolargl\":[{\"type\":\"scatterpolargl\",\"marker\":{\"colorbar\":{\"outlinewidth\":0,\"ticks\":\"\"}}}],\"bar\":[{\"error_x\":{\"color\":\"#2a3f5f\"},\"error_y\":{\"color\":\"#2a3f5f\"},\"marker\":{\"line\":{\"color\":\"#E5ECF6\",\"width\":0.5},\"pattern\":{\"fillmode\":\"overlay\",\"size\":10,\"solidity\":0.2}},\"type\":\"bar\"}],\"scattergeo\":[{\"type\":\"scattergeo\",\"marker\":{\"colorbar\":{\"outlinewidth\":0,\"ticks\":\"\"}}}],\"scatterpolar\":[{\"type\":\"scatterpolar\",\"marker\":{\"colorbar\":{\"outlinewidth\":0,\"ticks\":\"\"}}}],\"histogram\":[{\"marker\":{\"pattern\":{\"fillmode\":\"overlay\",\"size\":10,\"solidity\":0.2}},\"type\":\"histogram\"}],\"scattergl\":[{\"type\":\"scattergl\",\"marker\":{\"colorbar\":{\"outlinewidth\":0,\"ticks\":\"\"}}}],\"scatter3d\":[{\"type\":\"scatter3d\",\"line\":{\"colorbar\":{\"outlinewidth\":0,\"ticks\":\"\"}},\"marker\":{\"colorbar\":{\"outlinewidth\":0,\"ticks\":\"\"}}}],\"scattermapbox\":[{\"type\":\"scattermapbox\",\"marker\":{\"colorbar\":{\"outlinewidth\":0,\"ticks\":\"\"}}}],\"scatterternary\":[{\"type\":\"scatterternary\",\"marker\":{\"colorbar\":{\"outlinewidth\":0,\"ticks\":\"\"}}}],\"scattercarpet\":[{\"type\":\"scattercarpet\",\"marker\":{\"colorbar\":{\"outlinewidth\":0,\"ticks\":\"\"}}}],\"carpet\":[{\"aaxis\":{\"endlinecolor\":\"#2a3f5f\",\"gridcolor\":\"white\",\"linecolor\":\"white\",\"minorgridcolor\":\"white\",\"startlinecolor\":\"#2a3f5f\"},\"baxis\":{\"endlinecolor\":\"#2a3f5f\",\"gridcolor\":\"white\",\"linecolor\":\"white\",\"minorgridcolor\":\"white\",\"startlinecolor\":\"#2a3f5f\"},\"type\":\"carpet\"}],\"table\":[{\"cells\":{\"fill\":{\"color\":\"#EBF0F8\"},\"line\":{\"color\":\"white\"}},\"header\":{\"fill\":{\"color\":\"#C8D4E3\"},\"line\":{\"color\":\"white\"}},\"type\":\"table\"}],\"barpolar\":[{\"marker\":{\"line\":{\"color\":\"#E5ECF6\",\"width\":0.5},\"pattern\":{\"fillmode\":\"overlay\",\"size\":10,\"solidity\":0.2}},\"type\":\"barpolar\"}],\"pie\":[{\"automargin\":true,\"type\":\"pie\"}]},\"layout\":{\"autotypenumbers\":\"strict\",\"colorway\":[\"#636efa\",\"#EF553B\",\"#00cc96\",\"#ab63fa\",\"#FFA15A\",\"#19d3f3\",\"#FF6692\",\"#B6E880\",\"#FF97FF\",\"#FECB52\"],\"font\":{\"color\":\"#2a3f5f\"},\"hovermode\":\"closest\",\"hoverlabel\":{\"align\":\"left\"},\"paper_bgcolor\":\"white\",\"plot_bgcolor\":\"#E5ECF6\",\"polar\":{\"bgcolor\":\"#E5ECF6\",\"angularaxis\":{\"gridcolor\":\"white\",\"linecolor\":\"white\",\"ticks\":\"\"},\"radialaxis\":{\"gridcolor\":\"white\",\"linecolor\":\"white\",\"ticks\":\"\"}},\"ternary\":{\"bgcolor\":\"#E5ECF6\",\"aaxis\":{\"gridcolor\":\"white\",\"linecolor\":\"white\",\"ticks\":\"\"},\"baxis\":{\"gridcolor\":\"white\",\"linecolor\":\"white\",\"ticks\":\"\"},\"caxis\":{\"gridcolor\":\"white\",\"linecolor\":\"white\",\"ticks\":\"\"}},\"coloraxis\":{\"colorbar\":{\"outlinewidth\":0,\"ticks\":\"\"}},\"colorscale\":{\"sequential\":[[0.0,\"#0d0887\"],[0.1111111111111111,\"#46039f\"],[0.2222222222222222,\"#7201a8\"],[0.3333333333333333,\"#9c179e\"],[0.4444444444444444,\"#bd3786\"],[0.5555555555555556,\"#d8576b\"],[0.6666666666666666,\"#ed7953\"],[0.7777777777777778,\"#fb9f3a\"],[0.8888888888888888,\"#fdca26\"],[1.0,\"#f0f921\"]],\"sequentialminus\":[[0.0,\"#0d0887\"],[0.1111111111111111,\"#46039f\"],[0.2222222222222222,\"#7201a8\"],[0.3333333333333333,\"#9c179e\"],[0.4444444444444444,\"#bd3786\"],[0.5555555555555556,\"#d8576b\"],[0.6666666666666666,\"#ed7953\"],[0.7777777777777778,\"#fb9f3a\"],[0.8888888888888888,\"#fdca26\"],[1.0,\"#f0f921\"]],\"diverging\":[[0,\"#8e0152\"],[0.1,\"#c51b7d\"],[0.2,\"#de77ae\"],[0.3,\"#f1b6da\"],[0.4,\"#fde0ef\"],[0.5,\"#f7f7f7\"],[0.6,\"#e6f5d0\"],[0.7,\"#b8e186\"],[0.8,\"#7fbc41\"],[0.9,\"#4d9221\"],[1,\"#276419\"]]},\"xaxis\":{\"gridcolor\":\"white\",\"linecolor\":\"white\",\"ticks\":\"\",\"title\":{\"standoff\":15},\"zerolinecolor\":\"white\",\"automargin\":true,\"zerolinewidth\":2},\"yaxis\":{\"gridcolor\":\"white\",\"linecolor\":\"white\",\"ticks\":\"\",\"title\":{\"standoff\":15},\"zerolinecolor\":\"white\",\"automargin\":true,\"zerolinewidth\":2},\"scene\":{\"xaxis\":{\"backgroundcolor\":\"#E5ECF6\",\"gridcolor\":\"white\",\"linecolor\":\"white\",\"showbackground\":true,\"ticks\":\"\",\"zerolinecolor\":\"white\",\"gridwidth\":2},\"yaxis\":{\"backgroundcolor\":\"#E5ECF6\",\"gridcolor\":\"white\",\"linecolor\":\"white\",\"showbackground\":true,\"ticks\":\"\",\"zerolinecolor\":\"white\",\"gridwidth\":2},\"zaxis\":{\"backgroundcolor\":\"#E5ECF6\",\"gridcolor\":\"white\",\"linecolor\":\"white\",\"showbackground\":true,\"ticks\":\"\",\"zerolinecolor\":\"white\",\"gridwidth\":2}},\"shapedefaults\":{\"line\":{\"color\":\"#2a3f5f\"}},\"annotationdefaults\":{\"arrowcolor\":\"#2a3f5f\",\"arrowhead\":0,\"arrowwidth\":1},\"geo\":{\"bgcolor\":\"white\",\"landcolor\":\"#E5ECF6\",\"subunitcolor\":\"white\",\"showland\":true,\"showlakes\":true,\"lakecolor\":\"white\"},\"title\":{\"x\":0.05},\"mapbox\":{\"style\":\"light\"}}},\"title\":{\"text\":\"Top Wall Tracks\"},\"scene\":{\"xaxis\":{\"title\":{\"text\":\"X\"}},\"yaxis\":{\"title\":{\"text\":\"Z\"}},\"zaxis\":{\"title\":{\"text\":\"Y\"}}}},                        {\"responsive\": true}                    ).then(function(){\n",
       "                            \n",
       "var gd = document.getElementById('711fc85a-5f1f-44f8-9212-7dd7e68684e8');\n",
       "var x = new MutationObserver(function (mutations, observer) {{\n",
       "        var display = window.getComputedStyle(gd).display;\n",
       "        if (!display || display === 'none') {{\n",
       "            console.log([gd, 'removed!']);\n",
       "            Plotly.purge(gd);\n",
       "            observer.disconnect();\n",
       "        }}\n",
       "}});\n",
       "\n",
       "// Listen for the removal of the full notebook cells\n",
       "var notebookContainer = gd.closest('#notebook-container');\n",
       "if (notebookContainer) {{\n",
       "    x.observe(notebookContainer, {childList: true});\n",
       "}}\n",
       "\n",
       "// Listen for the clearing of the current output cell\n",
       "var outputEl = gd.closest('.output');\n",
       "if (outputEl) {{\n",
       "    x.observe(outputEl, {childList: true});\n",
       "}}\n",
       "\n",
       "                        })                };                });            </script>        </div>"
      ]
     },
     "metadata": {},
     "output_type": "display_data"
    }
   ],
   "source": [
    "fraction = 0.05\n",
    "N_tracks = int(fraction*len(trk_start_in_top_x))\n",
    "\n",
    "fig = go.Figure()\n",
    "fig.update_layout(title='Top Wall Tracks', scene=dict(\n",
    "    xaxis_title='X',\n",
    "    yaxis_title='Z',\n",
    "    zaxis_title='Y'\n",
    "))\n",
    "\n",
    "for i in range(N_tracks):\n",
    "    fig.add_trace(go.Scatter3d(\n",
    "        x=track_vector_x[i],\n",
    "        y=track_vector_z[i],\n",
    "        z=track_vector_y[i],\n",
    "        mode='lines',\n",
    "        line=dict(width=2)\n",
    "    ))\n",
    "\n",
    "fig.show()"
   ]
  },
  {
   "cell_type": "markdown",
   "metadata": {},
   "source": [
    "## Having a look at angle distributions"
   ]
  },
  {
   "cell_type": "code",
   "execution_count": 36,
   "metadata": {},
   "outputs": [],
   "source": [
    "track_vector_in = np.transpose([trk_end_in_top_x - trk_start_in_top_x, trk_end_in_top_y - trk_start_in_top_y, trk_end_in_top_z - trk_start_in_top_z])\n",
    "track_vector_out = np.transpose([trk_end_out_top_x - trk_start_out_top_x, trk_end_out_top_y - trk_start_out_top_y, trk_end_out_top_z - trk_start_out_top_z])"
   ]
  },
  {
   "cell_type": "code",
   "execution_count": 37,
   "metadata": {},
   "outputs": [],
   "source": [
    "def vec_angle(vector, ref_vector=[0,0,1]):\n",
    "    # bnb_vec = [0,0,1]\n",
    "\n",
    "    dot_product = np.dot(vector, ref_vector)\n",
    "    mag_bnb = np.linalg.norm(ref_vector)\n",
    "    mag_vec = np.linalg.norm(vector, axis=1)\n",
    "\n",
    "    cos_theta = dot_product/(mag_bnb*mag_vec)\n",
    "    return cos_theta\n",
    "\n",
    "def gauss(x, H, A, x0, sigma): \n",
    "    return H + A * np.exp(-(x - x0) ** 2 / (2 * sigma ** 2))\n"
   ]
  },
  {
   "cell_type": "code",
   "execution_count": 38,
   "metadata": {},
   "outputs": [
    {
     "data": {
      "image/png": "[encoded data removed]",
      "text/plain": [
       "<Figure size 640x480 with 1 Axes>"
      ]
     },
     "metadata": {},
     "output_type": "display_data"
    }
   ],
   "source": [
    "bins = 15\n",
    "range_angle = (0, 180)\n",
    "\n",
    "ref_vector = np.array([0, 0, 1]) # BNB vector: [0,0,1]\n",
    "\n",
    "vec_angles_in = np.rad2deg(np.arccos((vec_angle(track_vector_in, ref_vector))))\n",
    "mean_in, std_in = np.mean(vec_angles_in), np.std(vec_angles_in)\n",
    "hist_angles_in, bins = np.histogram(vec_angles_in, bins=bins, range=range_angle, density=True)\n",
    "\n",
    "vec_angles_out = np.rad2deg(np.arccos((vec_angle(track_vector_out, ref_vector))))\n",
    "mean_out, std_out = np.mean(vec_angles_out), np.std(vec_angles_out)\n",
    "hist_angles_out, bins = np.histogram(vec_angles_out, bins=bins, range=range_angle, density=True)\n",
    "\n",
    "plt.step(bins[:-1], hist_angles_in, where='post', label='In Beam Window, Mean = {:.2f}, Std = {:.2f}'.format(mean_in, std_in))\n",
    "plt.step(bins[:-1], hist_angles_out, where='post', label='Out Beam Window, Mean = {:.2f}, Std = {:.2f}'.format(mean_out, std_out))\n",
    "plt.ylabel('Counts')\n",
    "plt.xlabel('Angle [degrees]')\n",
    "plt.legend(loc='upper left')\n",
    "plt.show()"
   ]
  },
  {
   "cell_type": "markdown",
   "metadata": {},
   "source": [
    "How many tracks look like they come from the beam? Use an angle selection"
   ]
  },
  {
   "cell_type": "code",
   "execution_count": 39,
   "metadata": {},
   "outputs": [],
   "source": [
    "angle_cut = 30\n",
    "\n",
    "\n",
    "BNB_angle_in_filter = ((vec_angles_in < angle_cut) | (vec_angles_in > 180-angle_cut))\n",
    "ts0_in_top_bnb = trk_ts0_in_window[top_wall_in_filter][BNB_angle_in_filter]\n",
    "\n",
    "BNB_angle_out_filter = ((vec_angles_out < angle_cut) | (vec_angles_out >  180-angle_cut))\n",
    "ts0_out_top_bnb = trk_ts0_out_window[top_wall_out_filter][BNB_angle_out_filter]"
   ]
  },
  {
   "cell_type": "code",
   "execution_count": 48,
   "metadata": {},
   "outputs": [
    {
     "data": {
      "image/png": "[encoded data removed]",
      "text/plain": [
       "<Figure size 640x480 with 1 Axes>"
      ]
     },
     "metadata": {},
     "output_type": "display_data"
    },
    {
     "data": {
      "text/plain": [
       "<matplotlib.legend.Legend at 0x7f5453ae21a0>"
      ]
     },
     "execution_count": 48,
     "metadata": {},
     "output_type": "execute_result"
    },
    {
     "data": {
      "image/png": "[encoded data removed]",
      "text/plain": [
       "<Figure size 640x480 with 1 Axes>"
      ]
     },
     "metadata": {},
     "output_type": "display_data"
    }
   ],
   "source": [
    "time_range = (-10, 10)\n",
    "n_bins = 40\n",
    "\n",
    "\n",
    "hist, bins = np.histogram(ts0_out_top_bnb + 1, range=time_range, bins=n_bins, density=False)\n",
    "# plt.hist(ts0_out_top_bnb + 1, range=time_range, bins=n_bins, histtype='step', label='Out Beam Window')\n",
    "plt.step(bins[:-1], hist, where='post', label='Out Beam Window')\n",
    "hist, bins = np.histogram(ts0_in_top_bnb + 1, range=time_range, bins=n_bins, density=False)\n",
    "plt.step(bins[:-1], hist, where='post', label='In Beam Window')\n",
    "plt.xlabel('CRT Track time [μs]')\n",
    "plt.ylabel('Count')\n",
    "plt.legend(title='BNB Angle < 30°, top wall')\n",
    "plt.show()\n",
    "\n",
    "hist, bins = np.histogram(ts0_out_top_bnb + 1, range=time_range, bins=n_bins, density=False)\n",
    "mean_bkg, std_bkg = np.mean(hist), np.std(hist)\n",
    "hist = hist - mean_bkg\n",
    "# plt.hist(ts0_out_top_bnb + 1, range=time_range, bins=n_bins, histtype='step', label='Out Beam Window')\n",
    "plt.step(bins[:-1], hist, where='post', label='Out Beam Window')\n",
    "hist, bins = np.histogram(ts0_in_top_bnb + 1, range=time_range, bins=n_bins, density=False)\n",
    "hist = hist - mean_bkg\n",
    "plt.step(bins[:-1], hist, where='post', label='In Beam Window')\n",
    "\n",
    "\n",
    "plt.xlabel('CRT Track time [μs]')\n",
    "plt.ylabel('Background-subtracted count')\n",
    "plt.legend(title='BNB Angle < 30°, top wall')\n"
   ]
  },
  {
   "cell_type": "code",
   "execution_count": null,
   "metadata": {},
   "outputs": [],
   "source": []
  }
 ],
 "metadata": {
  "kernelspec": {
   "display_name": "crt",
   "language": "python",
   "name": "python3"
  },
  "language_info": {
   "codemirror_mode": {
    "name": "ipython",
    "version": 3
   },
   "file_extension": ".py",
   "mimetype": "text/x-python",
   "name": "python",
   "nbconvert_exporter": "python",
   "pygments_lexer": "ipython3",
   "version": "3.10.0"
  }
 },
 "nbformat": 4,
 "nbformat_minor": 2
}
